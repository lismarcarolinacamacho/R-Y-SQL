{
  "nbformat": 4,
  "nbformat_minor": 0,
  "metadata": {
    "colab": {
      "name": "pruebas sql + R.ipynb",
      "provenance": [],
      "collapsed_sections": [],
      "authorship_tag": "ABX9TyOovwDfRj9ziQLlduMEm+70",
      "include_colab_link": true
    },
    "kernelspec": {
      "name": "python3",
      "display_name": "Python 3"
    },
    "language_info": {
      "name": "python"
    }
  },
  "cells": [
    {
      "cell_type": "markdown",
      "metadata": {
        "id": "view-in-github",
        "colab_type": "text"
      },
      "source": [
        "<a href=\"https://colab.research.google.com/github/lismarcarolinacamacho/R-Y-SQL/blob/main/pruebas_sql_%2B_R.ipynb\" target=\"_parent\"><img src=\"https://colab.research.google.com/assets/colab-badge.svg\" alt=\"Open In Colab\"/></a>"
      ]
    },
    {
      "cell_type": "code",
      "source": [
        "# CREATING THE TABLE\n",
        "import sqlite3\n",
        "\n",
        "def createDB():\n",
        "  conn = sqlite3.connect('test.db')\n",
        "\n",
        "  conn.execute('''\n",
        "CREATE TABLE IF NOT EXISTS team_data(team text, \n",
        "                      country text, \n",
        "                      season integer, \n",
        "                      total_goals integer);''')\n",
        "  conn.commit()\n",
        "\n",
        "  conn.close()\n",
        "\n",
        "print(\"Opened database successfully\");\n",
        "print(\"Table created successfully\");"
      ],
      "metadata": {
        "colab": {
          "base_uri": "https://localhost:8080/"
        },
        "id": "-MkcOIA6lZan",
        "outputId": "ce4d7482-1142-4c0e-a807-3231a298d93e"
      },
      "execution_count": 18,
      "outputs": [
        {
          "output_type": "stream",
          "name": "stdout",
          "text": [
            "Opened database successfully\n",
            "Table created successfully\n"
          ]
        }
      ]
    },
    {
      "cell_type": "code",
      "source": [
        "# INSERTING VALUES\n",
        "conn = sqlite3.connect('test.db')\n",
        "conn.execute(\"INSERT INTO team_data VALUES('Real Madrid', 'Spain', 2019, 53);\")\n",
        "conn.execute(\"INSERT INTO team_data VALUES('Barcelona', 'Spain', 2019, 47);\")\n",
        "conn.execute(\"INSERT INTO team_data VALUES('Arsenal', 'UK', 2019, 52);\")\n",
        "conn.execute(\"INSERT INTO team_data VALUES('Real Madrid', 'Spain', 2018, 49);\")\n",
        "conn.execute(\"INSERT INTO team_data VALUES('Barcelona', 'Spain', 2018, 45);\")\n",
        "conn.execute(\"INSERT INTO team_data VALUES('Arsenal', 'UK', 2018, 50 );\")\n",
        "\n",
        "conn.commit()"
      ],
      "metadata": {
        "id": "PJxR9hQolhN_"
      },
      "execution_count": 16,
      "outputs": []
    },
    {
      "cell_type": "code",
      "source": [
        "# Average goal by team\n",
        "\n",
        "conn = sqlite3.connect('test.db')\n",
        "\n",
        "cursor = conn.execute(''' SELECT team,\n",
        "                            AVG(total_goals) AS avg_goals\n",
        "                          FROM team_data\n",
        "                          GROUP BY team;''')\n",
        "\n",
        "for row in cursor:\n",
        "  print(row)\n",
        "conn.close()"
      ],
      "metadata": {
        "colab": {
          "base_uri": "https://localhost:8080/"
        },
        "id": "_2I1cOENlhVC",
        "outputId": "e2995b7a-f1f0-47ee-d9aa-9815a00235f7"
      },
      "execution_count": 17,
      "outputs": [
        {
          "output_type": "stream",
          "name": "stdout",
          "text": [
            "('Arsenal', 51.0)\n",
            "('Barcelona', 46.0)\n",
            "('Real Madrid', 51.0)\n"
          ]
        }
      ]
    },
    {
      "cell_type": "code",
      "source": [
        "# Now, the correct query, using the appropriate sub-query\n",
        "\n",
        "conn = sqlite3.connect('test.db')\n",
        "\n",
        "cursor = conn.execute(''' SELECT team_name, avg_goals\n",
        "                          FROM (\n",
        "\n",
        "                          -- Here we make our sub-query:\n",
        "                            SELECT team AS team_name,\n",
        "                            AVG(total_goals) AS avg_goals\n",
        "                            FROM team_data\n",
        "                            GROUP BY team) tp\n",
        "                          -- End of the sub-query\n",
        "                          \n",
        "                          WHERE avg_goals > 50;''')\n",
        "\n",
        "for row in cursor:\n",
        "  print(row)\n",
        "conn.close()"
      ],
      "metadata": {
        "colab": {
          "base_uri": "https://localhost:8080/"
        },
        "id": "-fte_5oYlhYN",
        "outputId": "052cbd4b-f72d-4a6d-daed-4772d5fcd266"
      },
      "execution_count": null,
      "outputs": [
        {
          "output_type": "stream",
          "name": "stdout",
          "text": [
            "('Arsenal', 51.0)\n",
            "('Real Madrid', 51.0)\n"
          ]
        }
      ]
    },
    {
      "cell_type": "code",
      "source": [
        "conn = sqlite3.connect('employees.db')\n",
        "print(\"Opened database successfully\");\n",
        "\n",
        "conn.execute(\n",
        "\n",
        "'''\n",
        "DROP TABLE IF EXISTS departments'''\n",
        ")\n",
        "\n",
        "\n",
        "conn.commit()\n",
        "\n",
        "print(\"Table eliminated successfully\");\n",
        "\n",
        "conn.close()"
      ],
      "metadata": {
        "colab": {
          "base_uri": "https://localhost:8080/"
        },
        "id": "vXxUIjqUgWb2",
        "outputId": "47a4d640-bb23-431c-d22e-7421afe52d6d"
      },
      "execution_count": 42,
      "outputs": [
        {
          "output_type": "stream",
          "name": "stdout",
          "text": [
            "Opened database successfully\n",
            "Table eliminated successfully\n"
          ]
        }
      ]
    },
    {
      "cell_type": "code",
      "source": [
        "conn = sqlite3.connect('employees.db')\n",
        "print(\"Opened database successfully\");\n",
        "\n",
        "conn.execute(\n",
        "\n",
        "'''\n",
        "CREATE TABLE departments (\n",
        "  dept_no char(4) NOT NULL,\n",
        "  dept_name varchar(40) NOT NULL)'''\n",
        ")\n",
        "\n",
        "\n",
        "conn.commit()\n",
        "\n",
        "print(\"Table created successfully\");\n",
        "\n",
        "conn.close()"
      ],
      "metadata": {
        "id": "gumMKYyT0mEM",
        "colab": {
          "base_uri": "https://localhost:8080/"
        },
        "outputId": "53a1b296-05aa-4d74-ae56-5c57c730b523"
      },
      "execution_count": 43,
      "outputs": [
        {
          "output_type": "stream",
          "name": "stdout",
          "text": [
            "Opened database successfully\n",
            "Table created successfully\n"
          ]
        }
      ]
    },
    {
      "cell_type": "code",
      "source": [
        ""
      ],
      "metadata": {
        "id": "dphz2l0m0mO9"
      },
      "execution_count": null,
      "outputs": []
    },
    {
      "cell_type": "code",
      "source": [
        ""
      ],
      "metadata": {
        "id": "p_B8G_XZlhbF"
      },
      "execution_count": null,
      "outputs": []
    }
  ]
}