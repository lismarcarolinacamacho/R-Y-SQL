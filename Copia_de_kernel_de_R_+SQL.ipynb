{
  "nbformat": 4,
  "nbformat_minor": 0,
  "metadata": {
    "colab": {
      "name": "Copia de kernel de R +SQL.ipynb",
      "provenance": [],
      "collapsed_sections": [],
      "authorship_tag": "ABX9TyNQ9gxln3f+BxOQR78xxHHv",
      "include_colab_link": true
    },
    "kernelspec": {
      "name": "ir",
      "display_name": "R"
    },
    "language_info": {
      "name": "R"
    }
  },
  "cells": [
    {
      "cell_type": "markdown",
      "metadata": {
        "id": "view-in-github",
        "colab_type": "text"
      },
      "source": [
        "<a href=\"https://colab.research.google.com/github/lismarcarolinacamacho/R-Y-SQL/blob/main/Copia_de_kernel_de_R_%2BSQL.ipynb\" target=\"_parent\"><img src=\"https://colab.research.google.com/assets/colab-badge.svg\" alt=\"Open In Colab\"/></a>"
      ]
    },
    {
      "cell_type": "code",
      "source": [
        "# La url para crear un notebook con kernel de R es https://colab.to/r"
      ],
      "metadata": {
        "id": "6g4xyPTux8kb"
      },
      "execution_count": null,
      "outputs": []
    },
    {
      "cell_type": "code",
      "execution_count": 4,
      "metadata": {
        "colab": {
          "base_uri": "https://localhost:8080/"
        },
        "id": "98oF_ZmXxzh0",
        "outputId": "bb2730e2-c67d-4dc8-edae-199c2b58f50a"
      },
      "outputs": [
        {
          "output_type": "stream",
          "name": "stderr",
          "text": [
            "Installing package into ‘/usr/local/lib/R/site-library’\n",
            "(as ‘lib’ is unspecified)\n",
            "\n",
            "also installing the dependencies ‘plogr’, ‘gsubfn’, ‘proto’, ‘RSQLite’, ‘chron’\n",
            "\n",
            "\n"
          ]
        }
      ],
      "source": [
        "install.packages('sqldf')"
      ]
    },
    {
      "cell_type": "code",
      "source": [
        "library(sqldf)"
      ],
      "metadata": {
        "colab": {
          "base_uri": "https://localhost:8080/"
        },
        "id": "lm_697bW1B9k",
        "outputId": "c2e87fd8-c569-4127-c06a-0970c3ffc114"
      },
      "execution_count": 5,
      "outputs": [
        {
          "output_type": "stream",
          "name": "stderr",
          "text": [
            "Loading required package: gsubfn\n",
            "\n",
            "Loading required package: proto\n",
            "\n",
            "Warning message:\n",
            "“no DISPLAY variable so Tk is not available”\n",
            "Loading required package: RSQLite\n",
            "\n"
          ]
        }
      ]
    },
    {
      "cell_type": "code",
      "source": [
        "dataset= read.csv('data.csv',sep=';')"
      ],
      "metadata": {
        "id": "RahBhWqK1CBa"
      },
      "execution_count": 1,
      "outputs": []
    },
    {
      "cell_type": "code",
      "source": [
        "head(dataset)"
      ],
      "metadata": {
        "id": "Yt8z7Wcr1CGO",
        "colab": {
          "base_uri": "https://localhost:8080/",
          "height": 442
        },
        "outputId": "06ab3751-c691-43db-caed-d4be47b818af"
      },
      "execution_count": 2,
      "outputs": [
        {
          "output_type": "display_data",
          "data": {
            "text/html": [
              "<table class=\"dataframe\">\n",
              "<caption>A data.frame: 6 × 6</caption>\n",
              "<thead>\n",
              "\t<tr><th></th><th scope=col>FechaProgramacion</th><th scope=col>Fabrica</th><th scope=col>Seccion</th><th scope=col>Linea</th><th scope=col>Equipo</th><th scope=col>TiempoPNP</th></tr>\n",
              "\t<tr><th></th><th scope=col>&lt;chr&gt;</th><th scope=col>&lt;chr&gt;</th><th scope=col>&lt;chr&gt;</th><th scope=col>&lt;chr&gt;</th><th scope=col>&lt;chr&gt;</th><th scope=col>&lt;int&gt;</th></tr>\n",
              "</thead>\n",
              "<tbody>\n",
              "\t<tr><th scope=row>1</th><td>19/07/2018</td><td>Envases</td><td>Envasado Evaporada</td><td>Linea Baby 4</td><td>TRANSP CABLE ELEVADO ENFRIADOR   </td><td>45</td></tr>\n",
              "\t<tr><th scope=row>2</th><td>19/07/2018</td><td>Envases</td><td>Envasado Evaporada</td><td>Linea Baby 4</td><td>TRANSP CABLE ELEVADO CERRADORA   </td><td>45</td></tr>\n",
              "\t<tr><th scope=row>3</th><td>19/07/2018</td><td>Envases</td><td>Envasado Evaporada</td><td>Linea Baby 4</td><td>TABLERO AUTOMATISMO ESTERILIZADOR</td><td>45</td></tr>\n",
              "\t<tr><th scope=row>4</th><td>19/07/2018</td><td>Envases</td><td>Envasado Evaporada</td><td>Linea Baby 4</td><td>ROBOT PALETIZADOR KUKA           </td><td>45</td></tr>\n",
              "\t<tr><th scope=row>5</th><td>19/07/2018</td><td>Envases</td><td>Envasado Evaporada</td><td>Linea Baby 4</td><td>ETIQUETADORA                     </td><td>45</td></tr>\n",
              "\t<tr><th scope=row>6</th><td>19/07/2018</td><td>Envases</td><td>Envasado Evaporada</td><td>Linea Baby 4</td><td>ESTERILIZADOR                    </td><td>45</td></tr>\n",
              "</tbody>\n",
              "</table>\n"
            ],
            "text/markdown": "\nA data.frame: 6 × 6\n\n| <!--/--> | FechaProgramacion &lt;chr&gt; | Fabrica &lt;chr&gt; | Seccion &lt;chr&gt; | Linea &lt;chr&gt; | Equipo &lt;chr&gt; | TiempoPNP &lt;int&gt; |\n|---|---|---|---|---|---|---|\n| 1 | 19/07/2018 | Envases | Envasado Evaporada | Linea Baby 4 | TRANSP CABLE ELEVADO ENFRIADOR    | 45 |\n| 2 | 19/07/2018 | Envases | Envasado Evaporada | Linea Baby 4 | TRANSP CABLE ELEVADO CERRADORA    | 45 |\n| 3 | 19/07/2018 | Envases | Envasado Evaporada | Linea Baby 4 | TABLERO AUTOMATISMO ESTERILIZADOR | 45 |\n| 4 | 19/07/2018 | Envases | Envasado Evaporada | Linea Baby 4 | ROBOT PALETIZADOR KUKA            | 45 |\n| 5 | 19/07/2018 | Envases | Envasado Evaporada | Linea Baby 4 | ETIQUETADORA                      | 45 |\n| 6 | 19/07/2018 | Envases | Envasado Evaporada | Linea Baby 4 | ESTERILIZADOR                     | 45 |\n\n",
            "text/latex": "A data.frame: 6 × 6\n\\begin{tabular}{r|llllll}\n  & FechaProgramacion & Fabrica & Seccion & Linea & Equipo & TiempoPNP\\\\\n  & <chr> & <chr> & <chr> & <chr> & <chr> & <int>\\\\\n\\hline\n\t1 & 19/07/2018 & Envases & Envasado Evaporada & Linea Baby 4 & TRANSP CABLE ELEVADO ENFRIADOR    & 45\\\\\n\t2 & 19/07/2018 & Envases & Envasado Evaporada & Linea Baby 4 & TRANSP CABLE ELEVADO CERRADORA    & 45\\\\\n\t3 & 19/07/2018 & Envases & Envasado Evaporada & Linea Baby 4 & TABLERO AUTOMATISMO ESTERILIZADOR & 45\\\\\n\t4 & 19/07/2018 & Envases & Envasado Evaporada & Linea Baby 4 & ROBOT PALETIZADOR KUKA            & 45\\\\\n\t5 & 19/07/2018 & Envases & Envasado Evaporada & Linea Baby 4 & ETIQUETADORA                      & 45\\\\\n\t6 & 19/07/2018 & Envases & Envasado Evaporada & Linea Baby 4 & ESTERILIZADOR                     & 45\\\\\n\\end{tabular}\n",
            "text/plain": [
              "  FechaProgramacion Fabrica Seccion            Linea       \n",
              "1 19/07/2018        Envases Envasado Evaporada Linea Baby 4\n",
              "2 19/07/2018        Envases Envasado Evaporada Linea Baby 4\n",
              "3 19/07/2018        Envases Envasado Evaporada Linea Baby 4\n",
              "4 19/07/2018        Envases Envasado Evaporada Linea Baby 4\n",
              "5 19/07/2018        Envases Envasado Evaporada Linea Baby 4\n",
              "6 19/07/2018        Envases Envasado Evaporada Linea Baby 4\n",
              "  Equipo                            TiempoPNP\n",
              "1 TRANSP CABLE ELEVADO ENFRIADOR    45       \n",
              "2 TRANSP CABLE ELEVADO CERRADORA    45       \n",
              "3 TABLERO AUTOMATISMO ESTERILIZADOR 45       \n",
              "4 ROBOT PALETIZADOR KUKA            45       \n",
              "5 ETIQUETADORA                      45       \n",
              "6 ESTERILIZADOR                     45       "
            ]
          },
          "metadata": {}
        }
      ]
    },
    {
      "cell_type": "code",
      "source": [
        "sqldf(\n",
        "  \"select Fabrica, Seccion, Linea from dataset\"\n",
        ")"
      ],
      "metadata": {
        "colab": {
          "base_uri": "https://localhost:8080/",
          "height": 1000
        },
        "id": "j7IYXjcn_A09",
        "outputId": "6e5ffa8b-39ff-4b63-954a-a3f240543f13"
      },
      "execution_count": 6,
      "outputs": [
        {
          "output_type": "display_data",
          "data": {
            "text/html": [
              "<table class=\"dataframe\">\n",
              "<caption>A data.frame: 9999 × 3</caption>\n",
              "<thead>\n",
              "\t<tr><th scope=col>Fabrica</th><th scope=col>Seccion</th><th scope=col>Linea</th></tr>\n",
              "\t<tr><th scope=col>&lt;chr&gt;</th><th scope=col>&lt;chr&gt;</th><th scope=col>&lt;chr&gt;</th></tr>\n",
              "</thead>\n",
              "<tbody>\n",
              "\t<tr><td>Envases</td><td>Envasado Evaporada</td><td>Linea Baby 4</td></tr>\n",
              "\t<tr><td>Envases</td><td>Envasado Evaporada</td><td>Linea Baby 4</td></tr>\n",
              "\t<tr><td>Envases</td><td>Envasado Evaporada</td><td>Linea Baby 4</td></tr>\n",
              "\t<tr><td>Envases</td><td>Envasado Evaporada</td><td>Linea Baby 4</td></tr>\n",
              "\t<tr><td>Envases</td><td>Envasado Evaporada</td><td>Linea Baby 4</td></tr>\n",
              "\t<tr><td>Envases</td><td>Envasado Evaporada</td><td>Linea Baby 4</td></tr>\n",
              "\t<tr><td>Envases</td><td>Envasado Evaporada</td><td>Linea Baby 4</td></tr>\n",
              "\t<tr><td>Envases</td><td>Envasado Evaporada</td><td>Linea Baby 4</td></tr>\n",
              "\t<tr><td>Envases</td><td>Envasado Evaporada</td><td>Linea Baby 4</td></tr>\n",
              "\t<tr><td>Envases</td><td>Envasado Evaporada</td><td>Linea Baby 4</td></tr>\n",
              "\t<tr><td>Envases</td><td>Envasado Evaporada</td><td>Linea Baby 4</td></tr>\n",
              "\t<tr><td>Envases</td><td>Envasado Evaporada</td><td>Linea Baby 4</td></tr>\n",
              "\t<tr><td>Envases</td><td>Envasado Evaporada</td><td>Linea Baby 4</td></tr>\n",
              "\t<tr><td>Envases</td><td>Envasado Evaporada</td><td>Linea Baby 4</td></tr>\n",
              "\t<tr><td>Envases</td><td>Envasado Evaporada</td><td>Linea Baby 4</td></tr>\n",
              "\t<tr><td>Envases</td><td>Envasado Evaporada</td><td>Linea Baby 4</td></tr>\n",
              "\t<tr><td>Envases</td><td>Envasado Evaporada</td><td>Linea Baby 4</td></tr>\n",
              "\t<tr><td>Envases</td><td>Envasado Evaporada</td><td>Linea Baby 4</td></tr>\n",
              "\t<tr><td>Envases</td><td>Envasado Evaporada</td><td>Linea Baby 4</td></tr>\n",
              "\t<tr><td>Envases</td><td>Envasado Evaporada</td><td>Linea Baby 4</td></tr>\n",
              "\t<tr><td>Envases</td><td>Envasado Evaporada</td><td>Linea Baby 4</td></tr>\n",
              "\t<tr><td>Envases</td><td>Envasado Evaporada</td><td>Linea Baby 4</td></tr>\n",
              "\t<tr><td>Envases</td><td>Envasado Evaporada</td><td>Linea Baby 4</td></tr>\n",
              "\t<tr><td>Envases</td><td>Envasado Evaporada</td><td>Linea Baby 4</td></tr>\n",
              "\t<tr><td>Envases</td><td>Envasado Evaporada</td><td>Linea Baby 4</td></tr>\n",
              "\t<tr><td>Envases</td><td>Envasado Evaporada</td><td>Linea Baby 4</td></tr>\n",
              "\t<tr><td>Envases</td><td>Envasado Evaporada</td><td>Linea Baby 4</td></tr>\n",
              "\t<tr><td>Envases</td><td>Envasado Evaporada</td><td>Linea Baby 4</td></tr>\n",
              "\t<tr><td>Envases</td><td>Envasado Evaporada</td><td>Linea Baby 4</td></tr>\n",
              "\t<tr><td>Envases</td><td>Envasado Evaporada</td><td>Linea Baby 4</td></tr>\n",
              "\t<tr><td>⋮</td><td>⋮</td><td>⋮</td></tr>\n",
              "\t<tr><td>Derivados</td><td>Envasado RTD</td><td>Linea Baby 7</td></tr>\n",
              "\t<tr><td>Derivados</td><td>Envasado RTD</td><td>Linea Baby 7</td></tr>\n",
              "\t<tr><td>Derivados</td><td>Envasado RTD</td><td>Linea Baby 7</td></tr>\n",
              "\t<tr><td>Derivados</td><td>Envasado RTD</td><td>Linea Baby 7</td></tr>\n",
              "\t<tr><td>Derivados</td><td>Envasado RTD</td><td>Linea Baby 7</td></tr>\n",
              "\t<tr><td>Derivados</td><td>Envasado RTD</td><td>Linea Baby 7</td></tr>\n",
              "\t<tr><td>Derivados</td><td>Envasado RTD</td><td>Linea Baby 7</td></tr>\n",
              "\t<tr><td>Derivados</td><td>Envasado RTD</td><td>Linea Baby 7</td></tr>\n",
              "\t<tr><td>Derivados</td><td>Envasado RTD</td><td>Linea Baby 7</td></tr>\n",
              "\t<tr><td>Derivados</td><td>Envasado RTD</td><td>Linea Baby 7</td></tr>\n",
              "\t<tr><td>Derivados</td><td>Envasado RTD</td><td>Linea Baby 7</td></tr>\n",
              "\t<tr><td>Derivados</td><td>Envasado RTD</td><td>Linea Baby 7</td></tr>\n",
              "\t<tr><td>Derivados</td><td>Envasado RTD</td><td>Linea Baby 7</td></tr>\n",
              "\t<tr><td>Derivados</td><td>Envasado RTD</td><td>Linea Baby 7</td></tr>\n",
              "\t<tr><td>Derivados</td><td>Envasado RTD</td><td>Linea Baby 7</td></tr>\n",
              "\t<tr><td>Derivados</td><td>Envasado RTD</td><td>Linea Baby 7</td></tr>\n",
              "\t<tr><td>Derivados</td><td>Envasado RTD</td><td>Linea Baby 7</td></tr>\n",
              "\t<tr><td>Derivados</td><td>Envasado RTD</td><td>Linea Baby 7</td></tr>\n",
              "\t<tr><td>Derivados</td><td>Envasado RTD</td><td>Linea Baby 7</td></tr>\n",
              "\t<tr><td>Derivados</td><td>Envasado RTD</td><td>Linea Baby 7</td></tr>\n",
              "\t<tr><td>Derivados</td><td>Envasado RTD</td><td>Linea Baby 7</td></tr>\n",
              "\t<tr><td>Derivados</td><td>Envasado RTD</td><td>Linea Baby 7</td></tr>\n",
              "\t<tr><td>Derivados</td><td>Envasado RTD</td><td>Linea Baby 7</td></tr>\n",
              "\t<tr><td>Derivados</td><td>Envasado RTD</td><td>Linea Baby 7</td></tr>\n",
              "\t<tr><td>Derivados</td><td>Envasado RTD</td><td>Linea Baby 7</td></tr>\n",
              "\t<tr><td>Derivados</td><td>Envasado RTD</td><td>Linea Baby 7</td></tr>\n",
              "\t<tr><td>Derivados</td><td>Envasado RTD</td><td>Linea Baby 7</td></tr>\n",
              "\t<tr><td>Derivados</td><td>Envasado RTD</td><td>Linea Baby 7</td></tr>\n",
              "\t<tr><td>Derivados</td><td>Envasado RTD</td><td>Linea Baby 7</td></tr>\n",
              "\t<tr><td>Derivados</td><td>Envasado RTD</td><td>Linea Baby 7</td></tr>\n",
              "</tbody>\n",
              "</table>\n"
            ],
            "text/markdown": "\nA data.frame: 9999 × 3\n\n| Fabrica &lt;chr&gt; | Seccion &lt;chr&gt; | Linea &lt;chr&gt; |\n|---|---|---|\n| Envases | Envasado Evaporada | Linea Baby 4 |\n| Envases | Envasado Evaporada | Linea Baby 4 |\n| Envases | Envasado Evaporada | Linea Baby 4 |\n| Envases | Envasado Evaporada | Linea Baby 4 |\n| Envases | Envasado Evaporada | Linea Baby 4 |\n| Envases | Envasado Evaporada | Linea Baby 4 |\n| Envases | Envasado Evaporada | Linea Baby 4 |\n| Envases | Envasado Evaporada | Linea Baby 4 |\n| Envases | Envasado Evaporada | Linea Baby 4 |\n| Envases | Envasado Evaporada | Linea Baby 4 |\n| Envases | Envasado Evaporada | Linea Baby 4 |\n| Envases | Envasado Evaporada | Linea Baby 4 |\n| Envases | Envasado Evaporada | Linea Baby 4 |\n| Envases | Envasado Evaporada | Linea Baby 4 |\n| Envases | Envasado Evaporada | Linea Baby 4 |\n| Envases | Envasado Evaporada | Linea Baby 4 |\n| Envases | Envasado Evaporada | Linea Baby 4 |\n| Envases | Envasado Evaporada | Linea Baby 4 |\n| Envases | Envasado Evaporada | Linea Baby 4 |\n| Envases | Envasado Evaporada | Linea Baby 4 |\n| Envases | Envasado Evaporada | Linea Baby 4 |\n| Envases | Envasado Evaporada | Linea Baby 4 |\n| Envases | Envasado Evaporada | Linea Baby 4 |\n| Envases | Envasado Evaporada | Linea Baby 4 |\n| Envases | Envasado Evaporada | Linea Baby 4 |\n| Envases | Envasado Evaporada | Linea Baby 4 |\n| Envases | Envasado Evaporada | Linea Baby 4 |\n| Envases | Envasado Evaporada | Linea Baby 4 |\n| Envases | Envasado Evaporada | Linea Baby 4 |\n| Envases | Envasado Evaporada | Linea Baby 4 |\n| ⋮ | ⋮ | ⋮ |\n| Derivados | Envasado RTD | Linea Baby 7 |\n| Derivados | Envasado RTD | Linea Baby 7 |\n| Derivados | Envasado RTD | Linea Baby 7 |\n| Derivados | Envasado RTD | Linea Baby 7 |\n| Derivados | Envasado RTD | Linea Baby 7 |\n| Derivados | Envasado RTD | Linea Baby 7 |\n| Derivados | Envasado RTD | Linea Baby 7 |\n| Derivados | Envasado RTD | Linea Baby 7 |\n| Derivados | Envasado RTD | Linea Baby 7 |\n| Derivados | Envasado RTD | Linea Baby 7 |\n| Derivados | Envasado RTD | Linea Baby 7 |\n| Derivados | Envasado RTD | Linea Baby 7 |\n| Derivados | Envasado RTD | Linea Baby 7 |\n| Derivados | Envasado RTD | Linea Baby 7 |\n| Derivados | Envasado RTD | Linea Baby 7 |\n| Derivados | Envasado RTD | Linea Baby 7 |\n| Derivados | Envasado RTD | Linea Baby 7 |\n| Derivados | Envasado RTD | Linea Baby 7 |\n| Derivados | Envasado RTD | Linea Baby 7 |\n| Derivados | Envasado RTD | Linea Baby 7 |\n| Derivados | Envasado RTD | Linea Baby 7 |\n| Derivados | Envasado RTD | Linea Baby 7 |\n| Derivados | Envasado RTD | Linea Baby 7 |\n| Derivados | Envasado RTD | Linea Baby 7 |\n| Derivados | Envasado RTD | Linea Baby 7 |\n| Derivados | Envasado RTD | Linea Baby 7 |\n| Derivados | Envasado RTD | Linea Baby 7 |\n| Derivados | Envasado RTD | Linea Baby 7 |\n| Derivados | Envasado RTD | Linea Baby 7 |\n| Derivados | Envasado RTD | Linea Baby 7 |\n\n",
            "text/latex": "A data.frame: 9999 × 3\n\\begin{tabular}{lll}\n Fabrica & Seccion & Linea\\\\\n <chr> & <chr> & <chr>\\\\\n\\hline\n\t Envases & Envasado Evaporada & Linea Baby 4\\\\\n\t Envases & Envasado Evaporada & Linea Baby 4\\\\\n\t Envases & Envasado Evaporada & Linea Baby 4\\\\\n\t Envases & Envasado Evaporada & Linea Baby 4\\\\\n\t Envases & Envasado Evaporada & Linea Baby 4\\\\\n\t Envases & Envasado Evaporada & Linea Baby 4\\\\\n\t Envases & Envasado Evaporada & Linea Baby 4\\\\\n\t Envases & Envasado Evaporada & Linea Baby 4\\\\\n\t Envases & Envasado Evaporada & Linea Baby 4\\\\\n\t Envases & Envasado Evaporada & Linea Baby 4\\\\\n\t Envases & Envasado Evaporada & Linea Baby 4\\\\\n\t Envases & Envasado Evaporada & Linea Baby 4\\\\\n\t Envases & Envasado Evaporada & Linea Baby 4\\\\\n\t Envases & Envasado Evaporada & Linea Baby 4\\\\\n\t Envases & Envasado Evaporada & Linea Baby 4\\\\\n\t Envases & Envasado Evaporada & Linea Baby 4\\\\\n\t Envases & Envasado Evaporada & Linea Baby 4\\\\\n\t Envases & Envasado Evaporada & Linea Baby 4\\\\\n\t Envases & Envasado Evaporada & Linea Baby 4\\\\\n\t Envases & Envasado Evaporada & Linea Baby 4\\\\\n\t Envases & Envasado Evaporada & Linea Baby 4\\\\\n\t Envases & Envasado Evaporada & Linea Baby 4\\\\\n\t Envases & Envasado Evaporada & Linea Baby 4\\\\\n\t Envases & Envasado Evaporada & Linea Baby 4\\\\\n\t Envases & Envasado Evaporada & Linea Baby 4\\\\\n\t Envases & Envasado Evaporada & Linea Baby 4\\\\\n\t Envases & Envasado Evaporada & Linea Baby 4\\\\\n\t Envases & Envasado Evaporada & Linea Baby 4\\\\\n\t Envases & Envasado Evaporada & Linea Baby 4\\\\\n\t Envases & Envasado Evaporada & Linea Baby 4\\\\\n\t ⋮ & ⋮ & ⋮\\\\\n\t Derivados & Envasado RTD & Linea Baby 7\\\\\n\t Derivados & Envasado RTD & Linea Baby 7\\\\\n\t Derivados & Envasado RTD & Linea Baby 7\\\\\n\t Derivados & Envasado RTD & Linea Baby 7\\\\\n\t Derivados & Envasado RTD & Linea Baby 7\\\\\n\t Derivados & Envasado RTD & Linea Baby 7\\\\\n\t Derivados & Envasado RTD & Linea Baby 7\\\\\n\t Derivados & Envasado RTD & Linea Baby 7\\\\\n\t Derivados & Envasado RTD & Linea Baby 7\\\\\n\t Derivados & Envasado RTD & Linea Baby 7\\\\\n\t Derivados & Envasado RTD & Linea Baby 7\\\\\n\t Derivados & Envasado RTD & Linea Baby 7\\\\\n\t Derivados & Envasado RTD & Linea Baby 7\\\\\n\t Derivados & Envasado RTD & Linea Baby 7\\\\\n\t Derivados & Envasado RTD & Linea Baby 7\\\\\n\t Derivados & Envasado RTD & Linea Baby 7\\\\\n\t Derivados & Envasado RTD & Linea Baby 7\\\\\n\t Derivados & Envasado RTD & Linea Baby 7\\\\\n\t Derivados & Envasado RTD & Linea Baby 7\\\\\n\t Derivados & Envasado RTD & Linea Baby 7\\\\\n\t Derivados & Envasado RTD & Linea Baby 7\\\\\n\t Derivados & Envasado RTD & Linea Baby 7\\\\\n\t Derivados & Envasado RTD & Linea Baby 7\\\\\n\t Derivados & Envasado RTD & Linea Baby 7\\\\\n\t Derivados & Envasado RTD & Linea Baby 7\\\\\n\t Derivados & Envasado RTD & Linea Baby 7\\\\\n\t Derivados & Envasado RTD & Linea Baby 7\\\\\n\t Derivados & Envasado RTD & Linea Baby 7\\\\\n\t Derivados & Envasado RTD & Linea Baby 7\\\\\n\t Derivados & Envasado RTD & Linea Baby 7\\\\\n\\end{tabular}\n",
            "text/plain": [
              "     Fabrica   Seccion            Linea       \n",
              "1    Envases   Envasado Evaporada Linea Baby 4\n",
              "2    Envases   Envasado Evaporada Linea Baby 4\n",
              "3    Envases   Envasado Evaporada Linea Baby 4\n",
              "4    Envases   Envasado Evaporada Linea Baby 4\n",
              "5    Envases   Envasado Evaporada Linea Baby 4\n",
              "6    Envases   Envasado Evaporada Linea Baby 4\n",
              "7    Envases   Envasado Evaporada Linea Baby 4\n",
              "8    Envases   Envasado Evaporada Linea Baby 4\n",
              "9    Envases   Envasado Evaporada Linea Baby 4\n",
              "10   Envases   Envasado Evaporada Linea Baby 4\n",
              "11   Envases   Envasado Evaporada Linea Baby 4\n",
              "12   Envases   Envasado Evaporada Linea Baby 4\n",
              "13   Envases   Envasado Evaporada Linea Baby 4\n",
              "14   Envases   Envasado Evaporada Linea Baby 4\n",
              "15   Envases   Envasado Evaporada Linea Baby 4\n",
              "16   Envases   Envasado Evaporada Linea Baby 4\n",
              "17   Envases   Envasado Evaporada Linea Baby 4\n",
              "18   Envases   Envasado Evaporada Linea Baby 4\n",
              "19   Envases   Envasado Evaporada Linea Baby 4\n",
              "20   Envases   Envasado Evaporada Linea Baby 4\n",
              "21   Envases   Envasado Evaporada Linea Baby 4\n",
              "22   Envases   Envasado Evaporada Linea Baby 4\n",
              "23   Envases   Envasado Evaporada Linea Baby 4\n",
              "24   Envases   Envasado Evaporada Linea Baby 4\n",
              "25   Envases   Envasado Evaporada Linea Baby 4\n",
              "26   Envases   Envasado Evaporada Linea Baby 4\n",
              "27   Envases   Envasado Evaporada Linea Baby 4\n",
              "28   Envases   Envasado Evaporada Linea Baby 4\n",
              "29   Envases   Envasado Evaporada Linea Baby 4\n",
              "30   Envases   Envasado Evaporada Linea Baby 4\n",
              "⋮    ⋮         ⋮                  ⋮           \n",
              "9970 Derivados Envasado RTD       Linea Baby 7\n",
              "9971 Derivados Envasado RTD       Linea Baby 7\n",
              "9972 Derivados Envasado RTD       Linea Baby 7\n",
              "9973 Derivados Envasado RTD       Linea Baby 7\n",
              "9974 Derivados Envasado RTD       Linea Baby 7\n",
              "9975 Derivados Envasado RTD       Linea Baby 7\n",
              "9976 Derivados Envasado RTD       Linea Baby 7\n",
              "9977 Derivados Envasado RTD       Linea Baby 7\n",
              "9978 Derivados Envasado RTD       Linea Baby 7\n",
              "9979 Derivados Envasado RTD       Linea Baby 7\n",
              "9980 Derivados Envasado RTD       Linea Baby 7\n",
              "9981 Derivados Envasado RTD       Linea Baby 7\n",
              "9982 Derivados Envasado RTD       Linea Baby 7\n",
              "9983 Derivados Envasado RTD       Linea Baby 7\n",
              "9984 Derivados Envasado RTD       Linea Baby 7\n",
              "9985 Derivados Envasado RTD       Linea Baby 7\n",
              "9986 Derivados Envasado RTD       Linea Baby 7\n",
              "9987 Derivados Envasado RTD       Linea Baby 7\n",
              "9988 Derivados Envasado RTD       Linea Baby 7\n",
              "9989 Derivados Envasado RTD       Linea Baby 7\n",
              "9990 Derivados Envasado RTD       Linea Baby 7\n",
              "9991 Derivados Envasado RTD       Linea Baby 7\n",
              "9992 Derivados Envasado RTD       Linea Baby 7\n",
              "9993 Derivados Envasado RTD       Linea Baby 7\n",
              "9994 Derivados Envasado RTD       Linea Baby 7\n",
              "9995 Derivados Envasado RTD       Linea Baby 7\n",
              "9996 Derivados Envasado RTD       Linea Baby 7\n",
              "9997 Derivados Envasado RTD       Linea Baby 7\n",
              "9998 Derivados Envasado RTD       Linea Baby 7\n",
              "9999 Derivados Envasado RTD       Linea Baby 7"
            ]
          },
          "metadata": {}
        }
      ]
    },
    {
      "cell_type": "code",
      "source": [
        "q1 =sqldf(\n",
        "  \"select Fabrica, Seccion, Linea from dataset\"\n",
        ")"
      ],
      "metadata": {
        "id": "MC1kLbkC_DCE"
      },
      "execution_count": 7,
      "outputs": []
    },
    {
      "cell_type": "code",
      "source": [
        "sqldf(\n",
        "  \"select * from dataset where Linea ='Linea Baby 1'\"\n",
        ")"
      ],
      "metadata": {
        "colab": {
          "base_uri": "https://localhost:8080/",
          "height": 1000
        },
        "id": "GKrJSCCT_DId",
        "outputId": "8b59cefc-069f-493b-fbcc-f8a8454cff05"
      },
      "execution_count": 8,
      "outputs": [
        {
          "output_type": "display_data",
          "data": {
            "text/html": [
              "<table class=\"dataframe\">\n",
              "<caption>A data.frame: 1976 × 6</caption>\n",
              "<thead>\n",
              "\t<tr><th scope=col>FechaProgramacion</th><th scope=col>Fabrica</th><th scope=col>Seccion</th><th scope=col>Linea</th><th scope=col>Equipo</th><th scope=col>TiempoPNP</th></tr>\n",
              "\t<tr><th scope=col>&lt;chr&gt;</th><th scope=col>&lt;chr&gt;</th><th scope=col>&lt;chr&gt;</th><th scope=col>&lt;chr&gt;</th><th scope=col>&lt;chr&gt;</th><th scope=col>&lt;int&gt;</th></tr>\n",
              "</thead>\n",
              "<tbody>\n",
              "\t<tr><td>9/08/2019 </td><td>Envases</td><td>Envasado Evaporada</td><td>Linea Baby 1</td><td>TRANSP SALIDA EMBALADORA          </td><td>63</td></tr>\n",
              "\t<tr><td>9/08/2019 </td><td>Envases</td><td>Envasado Evaporada</td><td>Linea Baby 1</td><td>ENFRIADOR                         </td><td>63</td></tr>\n",
              "\t<tr><td>9/08/2019 </td><td>Envases</td><td>Envasado Evaporada</td><td>Linea Baby 1</td><td>ELEVADOR SALIDA CERRADORA         </td><td>63</td></tr>\n",
              "\t<tr><td>9/08/2019 </td><td>Envases</td><td>Envasado Evaporada</td><td>Linea Baby 1</td><td>ELEVADOR PALETAS                  </td><td>63</td></tr>\n",
              "\t<tr><td>9/08/2019 </td><td>Envases</td><td>Envasado Evaporada</td><td>Linea Baby 1</td><td>DETECTOR GAMMA                    </td><td>63</td></tr>\n",
              "\t<tr><td>9/08/2019 </td><td>Envases</td><td>Envasado Evaporada</td><td>Linea Baby 1</td><td>BBA DE RECUPERO LLENADORA         </td><td>63</td></tr>\n",
              "\t<tr><td>9/08/2019 </td><td>Envases</td><td>Envasado Evaporada</td><td>Linea Baby 1</td><td>TRANSP SALIDA ENFRIADOR           </td><td>63</td></tr>\n",
              "\t<tr><td>9/08/2019 </td><td>Envases</td><td>Envasado Evaporada</td><td>Linea Baby 1</td><td>TRANSP ALIMENT CAJAS PALETIZADO   </td><td>63</td></tr>\n",
              "\t<tr><td>9/08/2019 </td><td>Envases</td><td>Envasado Evaporada</td><td>Linea Baby 1</td><td>ELEVADOR SALIDA PAL/DEPAL WALLON  </td><td>63</td></tr>\n",
              "\t<tr><td>9/08/2019 </td><td>Envases</td><td>Envasado Evaporada</td><td>Linea Baby 1</td><td>CERRADORA                         </td><td>63</td></tr>\n",
              "\t<tr><td>25/08/2018</td><td>Envases</td><td>Envasado Evaporada</td><td>Linea Baby 1</td><td>TRANSP RODILLO PALETAS            </td><td>57</td></tr>\n",
              "\t<tr><td>25/08/2018</td><td>Envases</td><td>Envasado Evaporada</td><td>Linea Baby 1</td><td>TABLERO AUTOMATISMO LLEN-CERRADORA</td><td>57</td></tr>\n",
              "\t<tr><td>25/08/2018</td><td>Envases</td><td>Envasado Evaporada</td><td>Linea Baby 1</td><td>SOPLADOR LLENADORA                </td><td>57</td></tr>\n",
              "\t<tr><td>25/08/2018</td><td>Envases</td><td>Envasado Evaporada</td><td>Linea Baby 1</td><td>SOPLADOR ENFRIADOR                </td><td>57</td></tr>\n",
              "\t<tr><td>25/08/2018</td><td>Envases</td><td>Envasado Evaporada</td><td>Linea Baby 1</td><td>PALETIZADOR WALLON                </td><td>57</td></tr>\n",
              "\t<tr><td>25/08/2018</td><td>Envases</td><td>Envasado Evaporada</td><td>Linea Baby 1</td><td>EMBALADORA                        </td><td>57</td></tr>\n",
              "\t<tr><td>25/08/2018</td><td>Envases</td><td>Envasado Evaporada</td><td>Linea Baby 1</td><td>ELEVADOR SALIDA PRECALENTADOR     </td><td>57</td></tr>\n",
              "\t<tr><td>25/08/2018</td><td>Envases</td><td>Envasado Evaporada</td><td>Linea Baby 1</td><td>CODIFICADOR DE ENVASE LLENO       </td><td>57</td></tr>\n",
              "\t<tr><td>25/08/2018</td><td>Envases</td><td>Envasado Evaporada</td><td>Linea Baby 1</td><td>VAC TRAC PRECALENTADOR            </td><td>55</td></tr>\n",
              "\t<tr><td>25/08/2018</td><td>Envases</td><td>Envasado Evaporada</td><td>Linea Baby 1</td><td>TRANSP SALIDA CERRADORA           </td><td>55</td></tr>\n",
              "\t<tr><td>25/08/2018</td><td>Envases</td><td>Envasado Evaporada</td><td>Linea Baby 1</td><td>TABLERO AUTOMATISMO ESTERILIZADOR </td><td>55</td></tr>\n",
              "\t<tr><td>25/08/2018</td><td>Envases</td><td>Envasado Evaporada</td><td>Linea Baby 1</td><td>ROBOT PALETIZADOR KUKA            </td><td>55</td></tr>\n",
              "\t<tr><td>25/08/2018</td><td>Envases</td><td>Envasado Evaporada</td><td>Linea Baby 1</td><td>PRENSA                            </td><td>55</td></tr>\n",
              "\t<tr><td>25/08/2018</td><td>Envases</td><td>Envasado Evaporada</td><td>Linea Baby 1</td><td>PRECALENTADOR                     </td><td>55</td></tr>\n",
              "\t<tr><td>25/08/2018</td><td>Envases</td><td>Envasado Evaporada</td><td>Linea Baby 1</td><td>Llenado Y Embalado / Baby 1 - FLE </td><td>55</td></tr>\n",
              "\t<tr><td>25/08/2018</td><td>Envases</td><td>Envasado Evaporada</td><td>Linea Baby 1</td><td>ESTERILIZADOR                     </td><td>55</td></tr>\n",
              "\t<tr><td>25/08/2018</td><td>Envases</td><td>Envasado Evaporada</td><td>Linea Baby 1</td><td>ENGOMADORA                        </td><td>55</td></tr>\n",
              "\t<tr><td>25/08/2018</td><td>Envases</td><td>Envasado Evaporada</td><td>Linea Baby 1</td><td>VAC TRAC PRECALENTADOR            </td><td>63</td></tr>\n",
              "\t<tr><td>25/08/2018</td><td>Envases</td><td>Envasado Evaporada</td><td>Linea Baby 1</td><td>VAC TRAC ENFRIADOR                </td><td>63</td></tr>\n",
              "\t<tr><td>25/08/2018</td><td>Envases</td><td>Envasado Evaporada</td><td>Linea Baby 1</td><td>TRANSP SALIDA PRECALENTADOR       </td><td>63</td></tr>\n",
              "\t<tr><td>⋮</td><td>⋮</td><td>⋮</td><td>⋮</td><td>⋮</td><td>⋮</td></tr>\n",
              "\t<tr><td>22/06/2018</td><td>Condenseria</td><td>Envasado RTD</td><td>Linea Baby 1</td><td>CODIFICADOR DE CAJAS MARSH        </td><td>13</td></tr>\n",
              "\t<tr><td>22/06/2018</td><td>Condenseria</td><td>Envasado RTD</td><td>Linea Baby 1</td><td>CERRADORA                         </td><td>13</td></tr>\n",
              "\t<tr><td>22/06/2018</td><td>Condenseria</td><td>Envasado RTD</td><td>Linea Baby 1</td><td>BBA DE RECUPERO LLENADORA         </td><td>13</td></tr>\n",
              "\t<tr><td>22/06/2018</td><td>Condenseria</td><td>Envasado RTD</td><td>Linea Baby 1</td><td>TRANSP SALIDA ENFRIADOR           </td><td>13</td></tr>\n",
              "\t<tr><td>22/06/2018</td><td>Condenseria</td><td>Envasado RTD</td><td>Linea Baby 1</td><td>TRANSP ALIMENTADOR ENVASES VACIO  </td><td>13</td></tr>\n",
              "\t<tr><td>22/06/2018</td><td>Condenseria</td><td>Envasado RTD</td><td>Linea Baby 1</td><td>TRANSP ALIMENT CAJAS PALETIZADO   </td><td>13</td></tr>\n",
              "\t<tr><td>22/06/2018</td><td>Condenseria</td><td>Envasado RTD</td><td>Linea Baby 1</td><td>TABLERO AUTOMATISMO LLEN-CERRADORA</td><td>13</td></tr>\n",
              "\t<tr><td>22/06/2018</td><td>Condenseria</td><td>Envasado RTD</td><td>Linea Baby 1</td><td>TABLERO AUTOMATISMO ESTERILIZADOR </td><td>13</td></tr>\n",
              "\t<tr><td>22/06/2018</td><td>Condenseria</td><td>Envasado RTD</td><td>Linea Baby 1</td><td>PALETIZADOR WALLON                </td><td>13</td></tr>\n",
              "\t<tr><td>22/06/2018</td><td>Condenseria</td><td>Envasado RTD</td><td>Linea Baby 1</td><td>ESPIRAL INGRESO ETIQUETADORA      </td><td>13</td></tr>\n",
              "\t<tr><td>22/06/2018</td><td>Condenseria</td><td>Envasado RTD</td><td>Linea Baby 1</td><td>ENGOMADORA                        </td><td>13</td></tr>\n",
              "\t<tr><td>22/06/2018</td><td>Condenseria</td><td>Envasado RTD</td><td>Linea Baby 1</td><td>ENFRIADOR                         </td><td>13</td></tr>\n",
              "\t<tr><td>22/06/2018</td><td>Condenseria</td><td>Envasado RTD</td><td>Linea Baby 1</td><td>ELEVADOR SALIDA PAL/DEPAL WALLON  </td><td>13</td></tr>\n",
              "\t<tr><td>22/06/2018</td><td>Condenseria</td><td>Envasado RTD</td><td>Linea Baby 1</td><td>TRANSP RODILLO PALETAS            </td><td>13</td></tr>\n",
              "\t<tr><td>22/06/2018</td><td>Condenseria</td><td>Envasado RTD</td><td>Linea Baby 1</td><td>TABLERO AUTOMATISMO EMBAL-ETIQ    </td><td>13</td></tr>\n",
              "\t<tr><td>22/06/2018</td><td>Condenseria</td><td>Envasado RTD</td><td>Linea Baby 1</td><td>PRECALENTADOR                     </td><td>13</td></tr>\n",
              "\t<tr><td>22/06/2018</td><td>Condenseria</td><td>Envasado RTD</td><td>Linea Baby 1</td><td>EMBALADORA                        </td><td>13</td></tr>\n",
              "\t<tr><td>19/06/2018</td><td>Condenseria</td><td>Envasado RTD</td><td>Linea Baby 1</td><td>ELEVADOR SALIDA PRECALENTADOR     </td><td>13</td></tr>\n",
              "\t<tr><td>19/06/2018</td><td>Condenseria</td><td>Envasado RTD</td><td>Linea Baby 1</td><td>CODIFICADOR DE ENVASE LLENO       </td><td>13</td></tr>\n",
              "\t<tr><td>19/06/2018</td><td>Condenseria</td><td>Envasado RTD</td><td>Linea Baby 1</td><td>VAC TRAC PRECALENTADOR            </td><td>13</td></tr>\n",
              "\t<tr><td>19/06/2018</td><td>Condenseria</td><td>Envasado RTD</td><td>Linea Baby 1</td><td>VAC TRAC ENFRIADOR                </td><td>13</td></tr>\n",
              "\t<tr><td>19/06/2018</td><td>Condenseria</td><td>Envasado RTD</td><td>Linea Baby 1</td><td>TRANSP SALIDA PRECALENTADOR       </td><td>13</td></tr>\n",
              "\t<tr><td>19/06/2018</td><td>Condenseria</td><td>Envasado RTD</td><td>Linea Baby 1</td><td>TRANSP SALIDA EMBALADORA          </td><td>13</td></tr>\n",
              "\t<tr><td>19/06/2018</td><td>Condenseria</td><td>Envasado RTD</td><td>Linea Baby 1</td><td>TRANSP SALIDA CERRADORA           </td><td>13</td></tr>\n",
              "\t<tr><td>19/06/2018</td><td>Condenseria</td><td>Envasado RTD</td><td>Linea Baby 1</td><td>TRANSP MASS CONVEYOR              </td><td>13</td></tr>\n",
              "\t<tr><td>19/06/2018</td><td>Condenseria</td><td>Envasado RTD</td><td>Linea Baby 1</td><td>ROBOT PALETIZADOR KUKA            </td><td>13</td></tr>\n",
              "\t<tr><td>19/06/2018</td><td>Condenseria</td><td>Envasado RTD</td><td>Linea Baby 1</td><td>LLENADORA                         </td><td>13</td></tr>\n",
              "\t<tr><td>19/06/2018</td><td>Condenseria</td><td>Envasado RTD</td><td>Linea Baby 1</td><td>Llenado Y Embalado / Baby 1 - FLE </td><td>13</td></tr>\n",
              "\t<tr><td>19/06/2018</td><td>Condenseria</td><td>Envasado RTD</td><td>Linea Baby 1</td><td>ESTERILIZADOR                     </td><td>13</td></tr>\n",
              "\t<tr><td>19/06/2018</td><td>Condenseria</td><td>Envasado RTD</td><td>Linea Baby 1</td><td>ELEVADOR SALIDA CERRADORA         </td><td>13</td></tr>\n",
              "</tbody>\n",
              "</table>\n"
            ],
            "text/markdown": "\nA data.frame: 1976 × 6\n\n| FechaProgramacion &lt;chr&gt; | Fabrica &lt;chr&gt; | Seccion &lt;chr&gt; | Linea &lt;chr&gt; | Equipo &lt;chr&gt; | TiempoPNP &lt;int&gt; |\n|---|---|---|---|---|---|\n| 9/08/2019  | Envases | Envasado Evaporada | Linea Baby 1 | TRANSP SALIDA EMBALADORA           | 63 |\n| 9/08/2019  | Envases | Envasado Evaporada | Linea Baby 1 | ENFRIADOR                          | 63 |\n| 9/08/2019  | Envases | Envasado Evaporada | Linea Baby 1 | ELEVADOR SALIDA CERRADORA          | 63 |\n| 9/08/2019  | Envases | Envasado Evaporada | Linea Baby 1 | ELEVADOR PALETAS                   | 63 |\n| 9/08/2019  | Envases | Envasado Evaporada | Linea Baby 1 | DETECTOR GAMMA                     | 63 |\n| 9/08/2019  | Envases | Envasado Evaporada | Linea Baby 1 | BBA DE RECUPERO LLENADORA          | 63 |\n| 9/08/2019  | Envases | Envasado Evaporada | Linea Baby 1 | TRANSP SALIDA ENFRIADOR            | 63 |\n| 9/08/2019  | Envases | Envasado Evaporada | Linea Baby 1 | TRANSP ALIMENT CAJAS PALETIZADO    | 63 |\n| 9/08/2019  | Envases | Envasado Evaporada | Linea Baby 1 | ELEVADOR SALIDA PAL/DEPAL WALLON   | 63 |\n| 9/08/2019  | Envases | Envasado Evaporada | Linea Baby 1 | CERRADORA                          | 63 |\n| 25/08/2018 | Envases | Envasado Evaporada | Linea Baby 1 | TRANSP RODILLO PALETAS             | 57 |\n| 25/08/2018 | Envases | Envasado Evaporada | Linea Baby 1 | TABLERO AUTOMATISMO LLEN-CERRADORA | 57 |\n| 25/08/2018 | Envases | Envasado Evaporada | Linea Baby 1 | SOPLADOR LLENADORA                 | 57 |\n| 25/08/2018 | Envases | Envasado Evaporada | Linea Baby 1 | SOPLADOR ENFRIADOR                 | 57 |\n| 25/08/2018 | Envases | Envasado Evaporada | Linea Baby 1 | PALETIZADOR WALLON                 | 57 |\n| 25/08/2018 | Envases | Envasado Evaporada | Linea Baby 1 | EMBALADORA                         | 57 |\n| 25/08/2018 | Envases | Envasado Evaporada | Linea Baby 1 | ELEVADOR SALIDA PRECALENTADOR      | 57 |\n| 25/08/2018 | Envases | Envasado Evaporada | Linea Baby 1 | CODIFICADOR DE ENVASE LLENO        | 57 |\n| 25/08/2018 | Envases | Envasado Evaporada | Linea Baby 1 | VAC TRAC PRECALENTADOR             | 55 |\n| 25/08/2018 | Envases | Envasado Evaporada | Linea Baby 1 | TRANSP SALIDA CERRADORA            | 55 |\n| 25/08/2018 | Envases | Envasado Evaporada | Linea Baby 1 | TABLERO AUTOMATISMO ESTERILIZADOR  | 55 |\n| 25/08/2018 | Envases | Envasado Evaporada | Linea Baby 1 | ROBOT PALETIZADOR KUKA             | 55 |\n| 25/08/2018 | Envases | Envasado Evaporada | Linea Baby 1 | PRENSA                             | 55 |\n| 25/08/2018 | Envases | Envasado Evaporada | Linea Baby 1 | PRECALENTADOR                      | 55 |\n| 25/08/2018 | Envases | Envasado Evaporada | Linea Baby 1 | Llenado Y Embalado / Baby 1 - FLE  | 55 |\n| 25/08/2018 | Envases | Envasado Evaporada | Linea Baby 1 | ESTERILIZADOR                      | 55 |\n| 25/08/2018 | Envases | Envasado Evaporada | Linea Baby 1 | ENGOMADORA                         | 55 |\n| 25/08/2018 | Envases | Envasado Evaporada | Linea Baby 1 | VAC TRAC PRECALENTADOR             | 63 |\n| 25/08/2018 | Envases | Envasado Evaporada | Linea Baby 1 | VAC TRAC ENFRIADOR                 | 63 |\n| 25/08/2018 | Envases | Envasado Evaporada | Linea Baby 1 | TRANSP SALIDA PRECALENTADOR        | 63 |\n| ⋮ | ⋮ | ⋮ | ⋮ | ⋮ | ⋮ |\n| 22/06/2018 | Condenseria | Envasado RTD | Linea Baby 1 | CODIFICADOR DE CAJAS MARSH         | 13 |\n| 22/06/2018 | Condenseria | Envasado RTD | Linea Baby 1 | CERRADORA                          | 13 |\n| 22/06/2018 | Condenseria | Envasado RTD | Linea Baby 1 | BBA DE RECUPERO LLENADORA          | 13 |\n| 22/06/2018 | Condenseria | Envasado RTD | Linea Baby 1 | TRANSP SALIDA ENFRIADOR            | 13 |\n| 22/06/2018 | Condenseria | Envasado RTD | Linea Baby 1 | TRANSP ALIMENTADOR ENVASES VACIO   | 13 |\n| 22/06/2018 | Condenseria | Envasado RTD | Linea Baby 1 | TRANSP ALIMENT CAJAS PALETIZADO    | 13 |\n| 22/06/2018 | Condenseria | Envasado RTD | Linea Baby 1 | TABLERO AUTOMATISMO LLEN-CERRADORA | 13 |\n| 22/06/2018 | Condenseria | Envasado RTD | Linea Baby 1 | TABLERO AUTOMATISMO ESTERILIZADOR  | 13 |\n| 22/06/2018 | Condenseria | Envasado RTD | Linea Baby 1 | PALETIZADOR WALLON                 | 13 |\n| 22/06/2018 | Condenseria | Envasado RTD | Linea Baby 1 | ESPIRAL INGRESO ETIQUETADORA       | 13 |\n| 22/06/2018 | Condenseria | Envasado RTD | Linea Baby 1 | ENGOMADORA                         | 13 |\n| 22/06/2018 | Condenseria | Envasado RTD | Linea Baby 1 | ENFRIADOR                          | 13 |\n| 22/06/2018 | Condenseria | Envasado RTD | Linea Baby 1 | ELEVADOR SALIDA PAL/DEPAL WALLON   | 13 |\n| 22/06/2018 | Condenseria | Envasado RTD | Linea Baby 1 | TRANSP RODILLO PALETAS             | 13 |\n| 22/06/2018 | Condenseria | Envasado RTD | Linea Baby 1 | TABLERO AUTOMATISMO EMBAL-ETIQ     | 13 |\n| 22/06/2018 | Condenseria | Envasado RTD | Linea Baby 1 | PRECALENTADOR                      | 13 |\n| 22/06/2018 | Condenseria | Envasado RTD | Linea Baby 1 | EMBALADORA                         | 13 |\n| 19/06/2018 | Condenseria | Envasado RTD | Linea Baby 1 | ELEVADOR SALIDA PRECALENTADOR      | 13 |\n| 19/06/2018 | Condenseria | Envasado RTD | Linea Baby 1 | CODIFICADOR DE ENVASE LLENO        | 13 |\n| 19/06/2018 | Condenseria | Envasado RTD | Linea Baby 1 | VAC TRAC PRECALENTADOR             | 13 |\n| 19/06/2018 | Condenseria | Envasado RTD | Linea Baby 1 | VAC TRAC ENFRIADOR                 | 13 |\n| 19/06/2018 | Condenseria | Envasado RTD | Linea Baby 1 | TRANSP SALIDA PRECALENTADOR        | 13 |\n| 19/06/2018 | Condenseria | Envasado RTD | Linea Baby 1 | TRANSP SALIDA EMBALADORA           | 13 |\n| 19/06/2018 | Condenseria | Envasado RTD | Linea Baby 1 | TRANSP SALIDA CERRADORA            | 13 |\n| 19/06/2018 | Condenseria | Envasado RTD | Linea Baby 1 | TRANSP MASS CONVEYOR               | 13 |\n| 19/06/2018 | Condenseria | Envasado RTD | Linea Baby 1 | ROBOT PALETIZADOR KUKA             | 13 |\n| 19/06/2018 | Condenseria | Envasado RTD | Linea Baby 1 | LLENADORA                          | 13 |\n| 19/06/2018 | Condenseria | Envasado RTD | Linea Baby 1 | Llenado Y Embalado / Baby 1 - FLE  | 13 |\n| 19/06/2018 | Condenseria | Envasado RTD | Linea Baby 1 | ESTERILIZADOR                      | 13 |\n| 19/06/2018 | Condenseria | Envasado RTD | Linea Baby 1 | ELEVADOR SALIDA CERRADORA          | 13 |\n\n",
            "text/latex": "A data.frame: 1976 × 6\n\\begin{tabular}{llllll}\n FechaProgramacion & Fabrica & Seccion & Linea & Equipo & TiempoPNP\\\\\n <chr> & <chr> & <chr> & <chr> & <chr> & <int>\\\\\n\\hline\n\t 9/08/2019  & Envases & Envasado Evaporada & Linea Baby 1 & TRANSP SALIDA EMBALADORA           & 63\\\\\n\t 9/08/2019  & Envases & Envasado Evaporada & Linea Baby 1 & ENFRIADOR                          & 63\\\\\n\t 9/08/2019  & Envases & Envasado Evaporada & Linea Baby 1 & ELEVADOR SALIDA CERRADORA          & 63\\\\\n\t 9/08/2019  & Envases & Envasado Evaporada & Linea Baby 1 & ELEVADOR PALETAS                   & 63\\\\\n\t 9/08/2019  & Envases & Envasado Evaporada & Linea Baby 1 & DETECTOR GAMMA                     & 63\\\\\n\t 9/08/2019  & Envases & Envasado Evaporada & Linea Baby 1 & BBA DE RECUPERO LLENADORA          & 63\\\\\n\t 9/08/2019  & Envases & Envasado Evaporada & Linea Baby 1 & TRANSP SALIDA ENFRIADOR            & 63\\\\\n\t 9/08/2019  & Envases & Envasado Evaporada & Linea Baby 1 & TRANSP ALIMENT CAJAS PALETIZADO    & 63\\\\\n\t 9/08/2019  & Envases & Envasado Evaporada & Linea Baby 1 & ELEVADOR SALIDA PAL/DEPAL WALLON   & 63\\\\\n\t 9/08/2019  & Envases & Envasado Evaporada & Linea Baby 1 & CERRADORA                          & 63\\\\\n\t 25/08/2018 & Envases & Envasado Evaporada & Linea Baby 1 & TRANSP RODILLO PALETAS             & 57\\\\\n\t 25/08/2018 & Envases & Envasado Evaporada & Linea Baby 1 & TABLERO AUTOMATISMO LLEN-CERRADORA & 57\\\\\n\t 25/08/2018 & Envases & Envasado Evaporada & Linea Baby 1 & SOPLADOR LLENADORA                 & 57\\\\\n\t 25/08/2018 & Envases & Envasado Evaporada & Linea Baby 1 & SOPLADOR ENFRIADOR                 & 57\\\\\n\t 25/08/2018 & Envases & Envasado Evaporada & Linea Baby 1 & PALETIZADOR WALLON                 & 57\\\\\n\t 25/08/2018 & Envases & Envasado Evaporada & Linea Baby 1 & EMBALADORA                         & 57\\\\\n\t 25/08/2018 & Envases & Envasado Evaporada & Linea Baby 1 & ELEVADOR SALIDA PRECALENTADOR      & 57\\\\\n\t 25/08/2018 & Envases & Envasado Evaporada & Linea Baby 1 & CODIFICADOR DE ENVASE LLENO        & 57\\\\\n\t 25/08/2018 & Envases & Envasado Evaporada & Linea Baby 1 & VAC TRAC PRECALENTADOR             & 55\\\\\n\t 25/08/2018 & Envases & Envasado Evaporada & Linea Baby 1 & TRANSP SALIDA CERRADORA            & 55\\\\\n\t 25/08/2018 & Envases & Envasado Evaporada & Linea Baby 1 & TABLERO AUTOMATISMO ESTERILIZADOR  & 55\\\\\n\t 25/08/2018 & Envases & Envasado Evaporada & Linea Baby 1 & ROBOT PALETIZADOR KUKA             & 55\\\\\n\t 25/08/2018 & Envases & Envasado Evaporada & Linea Baby 1 & PRENSA                             & 55\\\\\n\t 25/08/2018 & Envases & Envasado Evaporada & Linea Baby 1 & PRECALENTADOR                      & 55\\\\\n\t 25/08/2018 & Envases & Envasado Evaporada & Linea Baby 1 & Llenado Y Embalado / Baby 1 - FLE  & 55\\\\\n\t 25/08/2018 & Envases & Envasado Evaporada & Linea Baby 1 & ESTERILIZADOR                      & 55\\\\\n\t 25/08/2018 & Envases & Envasado Evaporada & Linea Baby 1 & ENGOMADORA                         & 55\\\\\n\t 25/08/2018 & Envases & Envasado Evaporada & Linea Baby 1 & VAC TRAC PRECALENTADOR             & 63\\\\\n\t 25/08/2018 & Envases & Envasado Evaporada & Linea Baby 1 & VAC TRAC ENFRIADOR                 & 63\\\\\n\t 25/08/2018 & Envases & Envasado Evaporada & Linea Baby 1 & TRANSP SALIDA PRECALENTADOR        & 63\\\\\n\t ⋮ & ⋮ & ⋮ & ⋮ & ⋮ & ⋮\\\\\n\t 22/06/2018 & Condenseria & Envasado RTD & Linea Baby 1 & CODIFICADOR DE CAJAS MARSH         & 13\\\\\n\t 22/06/2018 & Condenseria & Envasado RTD & Linea Baby 1 & CERRADORA                          & 13\\\\\n\t 22/06/2018 & Condenseria & Envasado RTD & Linea Baby 1 & BBA DE RECUPERO LLENADORA          & 13\\\\\n\t 22/06/2018 & Condenseria & Envasado RTD & Linea Baby 1 & TRANSP SALIDA ENFRIADOR            & 13\\\\\n\t 22/06/2018 & Condenseria & Envasado RTD & Linea Baby 1 & TRANSP ALIMENTADOR ENVASES VACIO   & 13\\\\\n\t 22/06/2018 & Condenseria & Envasado RTD & Linea Baby 1 & TRANSP ALIMENT CAJAS PALETIZADO    & 13\\\\\n\t 22/06/2018 & Condenseria & Envasado RTD & Linea Baby 1 & TABLERO AUTOMATISMO LLEN-CERRADORA & 13\\\\\n\t 22/06/2018 & Condenseria & Envasado RTD & Linea Baby 1 & TABLERO AUTOMATISMO ESTERILIZADOR  & 13\\\\\n\t 22/06/2018 & Condenseria & Envasado RTD & Linea Baby 1 & PALETIZADOR WALLON                 & 13\\\\\n\t 22/06/2018 & Condenseria & Envasado RTD & Linea Baby 1 & ESPIRAL INGRESO ETIQUETADORA       & 13\\\\\n\t 22/06/2018 & Condenseria & Envasado RTD & Linea Baby 1 & ENGOMADORA                         & 13\\\\\n\t 22/06/2018 & Condenseria & Envasado RTD & Linea Baby 1 & ENFRIADOR                          & 13\\\\\n\t 22/06/2018 & Condenseria & Envasado RTD & Linea Baby 1 & ELEVADOR SALIDA PAL/DEPAL WALLON   & 13\\\\\n\t 22/06/2018 & Condenseria & Envasado RTD & Linea Baby 1 & TRANSP RODILLO PALETAS             & 13\\\\\n\t 22/06/2018 & Condenseria & Envasado RTD & Linea Baby 1 & TABLERO AUTOMATISMO EMBAL-ETIQ     & 13\\\\\n\t 22/06/2018 & Condenseria & Envasado RTD & Linea Baby 1 & PRECALENTADOR                      & 13\\\\\n\t 22/06/2018 & Condenseria & Envasado RTD & Linea Baby 1 & EMBALADORA                         & 13\\\\\n\t 19/06/2018 & Condenseria & Envasado RTD & Linea Baby 1 & ELEVADOR SALIDA PRECALENTADOR      & 13\\\\\n\t 19/06/2018 & Condenseria & Envasado RTD & Linea Baby 1 & CODIFICADOR DE ENVASE LLENO        & 13\\\\\n\t 19/06/2018 & Condenseria & Envasado RTD & Linea Baby 1 & VAC TRAC PRECALENTADOR             & 13\\\\\n\t 19/06/2018 & Condenseria & Envasado RTD & Linea Baby 1 & VAC TRAC ENFRIADOR                 & 13\\\\\n\t 19/06/2018 & Condenseria & Envasado RTD & Linea Baby 1 & TRANSP SALIDA PRECALENTADOR        & 13\\\\\n\t 19/06/2018 & Condenseria & Envasado RTD & Linea Baby 1 & TRANSP SALIDA EMBALADORA           & 13\\\\\n\t 19/06/2018 & Condenseria & Envasado RTD & Linea Baby 1 & TRANSP SALIDA CERRADORA            & 13\\\\\n\t 19/06/2018 & Condenseria & Envasado RTD & Linea Baby 1 & TRANSP MASS CONVEYOR               & 13\\\\\n\t 19/06/2018 & Condenseria & Envasado RTD & Linea Baby 1 & ROBOT PALETIZADOR KUKA             & 13\\\\\n\t 19/06/2018 & Condenseria & Envasado RTD & Linea Baby 1 & LLENADORA                          & 13\\\\\n\t 19/06/2018 & Condenseria & Envasado RTD & Linea Baby 1 & Llenado Y Embalado / Baby 1 - FLE  & 13\\\\\n\t 19/06/2018 & Condenseria & Envasado RTD & Linea Baby 1 & ESTERILIZADOR                      & 13\\\\\n\t 19/06/2018 & Condenseria & Envasado RTD & Linea Baby 1 & ELEVADOR SALIDA CERRADORA          & 13\\\\\n\\end{tabular}\n",
            "text/plain": [
              "     FechaProgramacion Fabrica     Seccion            Linea       \n",
              "1    9/08/2019         Envases     Envasado Evaporada Linea Baby 1\n",
              "2    9/08/2019         Envases     Envasado Evaporada Linea Baby 1\n",
              "3    9/08/2019         Envases     Envasado Evaporada Linea Baby 1\n",
              "4    9/08/2019         Envases     Envasado Evaporada Linea Baby 1\n",
              "5    9/08/2019         Envases     Envasado Evaporada Linea Baby 1\n",
              "6    9/08/2019         Envases     Envasado Evaporada Linea Baby 1\n",
              "7    9/08/2019         Envases     Envasado Evaporada Linea Baby 1\n",
              "8    9/08/2019         Envases     Envasado Evaporada Linea Baby 1\n",
              "9    9/08/2019         Envases     Envasado Evaporada Linea Baby 1\n",
              "10   9/08/2019         Envases     Envasado Evaporada Linea Baby 1\n",
              "11   25/08/2018        Envases     Envasado Evaporada Linea Baby 1\n",
              "12   25/08/2018        Envases     Envasado Evaporada Linea Baby 1\n",
              "13   25/08/2018        Envases     Envasado Evaporada Linea Baby 1\n",
              "14   25/08/2018        Envases     Envasado Evaporada Linea Baby 1\n",
              "15   25/08/2018        Envases     Envasado Evaporada Linea Baby 1\n",
              "16   25/08/2018        Envases     Envasado Evaporada Linea Baby 1\n",
              "17   25/08/2018        Envases     Envasado Evaporada Linea Baby 1\n",
              "18   25/08/2018        Envases     Envasado Evaporada Linea Baby 1\n",
              "19   25/08/2018        Envases     Envasado Evaporada Linea Baby 1\n",
              "20   25/08/2018        Envases     Envasado Evaporada Linea Baby 1\n",
              "21   25/08/2018        Envases     Envasado Evaporada Linea Baby 1\n",
              "22   25/08/2018        Envases     Envasado Evaporada Linea Baby 1\n",
              "23   25/08/2018        Envases     Envasado Evaporada Linea Baby 1\n",
              "24   25/08/2018        Envases     Envasado Evaporada Linea Baby 1\n",
              "25   25/08/2018        Envases     Envasado Evaporada Linea Baby 1\n",
              "26   25/08/2018        Envases     Envasado Evaporada Linea Baby 1\n",
              "27   25/08/2018        Envases     Envasado Evaporada Linea Baby 1\n",
              "28   25/08/2018        Envases     Envasado Evaporada Linea Baby 1\n",
              "29   25/08/2018        Envases     Envasado Evaporada Linea Baby 1\n",
              "30   25/08/2018        Envases     Envasado Evaporada Linea Baby 1\n",
              "⋮    ⋮                 ⋮           ⋮                  ⋮           \n",
              "1947 22/06/2018        Condenseria Envasado RTD       Linea Baby 1\n",
              "1948 22/06/2018        Condenseria Envasado RTD       Linea Baby 1\n",
              "1949 22/06/2018        Condenseria Envasado RTD       Linea Baby 1\n",
              "1950 22/06/2018        Condenseria Envasado RTD       Linea Baby 1\n",
              "1951 22/06/2018        Condenseria Envasado RTD       Linea Baby 1\n",
              "1952 22/06/2018        Condenseria Envasado RTD       Linea Baby 1\n",
              "1953 22/06/2018        Condenseria Envasado RTD       Linea Baby 1\n",
              "1954 22/06/2018        Condenseria Envasado RTD       Linea Baby 1\n",
              "1955 22/06/2018        Condenseria Envasado RTD       Linea Baby 1\n",
              "1956 22/06/2018        Condenseria Envasado RTD       Linea Baby 1\n",
              "1957 22/06/2018        Condenseria Envasado RTD       Linea Baby 1\n",
              "1958 22/06/2018        Condenseria Envasado RTD       Linea Baby 1\n",
              "1959 22/06/2018        Condenseria Envasado RTD       Linea Baby 1\n",
              "1960 22/06/2018        Condenseria Envasado RTD       Linea Baby 1\n",
              "1961 22/06/2018        Condenseria Envasado RTD       Linea Baby 1\n",
              "1962 22/06/2018        Condenseria Envasado RTD       Linea Baby 1\n",
              "1963 22/06/2018        Condenseria Envasado RTD       Linea Baby 1\n",
              "1964 19/06/2018        Condenseria Envasado RTD       Linea Baby 1\n",
              "1965 19/06/2018        Condenseria Envasado RTD       Linea Baby 1\n",
              "1966 19/06/2018        Condenseria Envasado RTD       Linea Baby 1\n",
              "1967 19/06/2018        Condenseria Envasado RTD       Linea Baby 1\n",
              "1968 19/06/2018        Condenseria Envasado RTD       Linea Baby 1\n",
              "1969 19/06/2018        Condenseria Envasado RTD       Linea Baby 1\n",
              "1970 19/06/2018        Condenseria Envasado RTD       Linea Baby 1\n",
              "1971 19/06/2018        Condenseria Envasado RTD       Linea Baby 1\n",
              "1972 19/06/2018        Condenseria Envasado RTD       Linea Baby 1\n",
              "1973 19/06/2018        Condenseria Envasado RTD       Linea Baby 1\n",
              "1974 19/06/2018        Condenseria Envasado RTD       Linea Baby 1\n",
              "1975 19/06/2018        Condenseria Envasado RTD       Linea Baby 1\n",
              "1976 19/06/2018        Condenseria Envasado RTD       Linea Baby 1\n",
              "     Equipo                             TiempoPNP\n",
              "1    TRANSP SALIDA EMBALADORA           63       \n",
              "2    ENFRIADOR                          63       \n",
              "3    ELEVADOR SALIDA CERRADORA          63       \n",
              "4    ELEVADOR PALETAS                   63       \n",
              "5    DETECTOR GAMMA                     63       \n",
              "6    BBA DE RECUPERO LLENADORA          63       \n",
              "7    TRANSP SALIDA ENFRIADOR            63       \n",
              "8    TRANSP ALIMENT CAJAS PALETIZADO    63       \n",
              "9    ELEVADOR SALIDA PAL/DEPAL WALLON   63       \n",
              "10   CERRADORA                          63       \n",
              "11   TRANSP RODILLO PALETAS             57       \n",
              "12   TABLERO AUTOMATISMO LLEN-CERRADORA 57       \n",
              "13   SOPLADOR LLENADORA                 57       \n",
              "14   SOPLADOR ENFRIADOR                 57       \n",
              "15   PALETIZADOR WALLON                 57       \n",
              "16   EMBALADORA                         57       \n",
              "17   ELEVADOR SALIDA PRECALENTADOR      57       \n",
              "18   CODIFICADOR DE ENVASE LLENO        57       \n",
              "19   VAC TRAC PRECALENTADOR             55       \n",
              "20   TRANSP SALIDA CERRADORA            55       \n",
              "21   TABLERO AUTOMATISMO ESTERILIZADOR  55       \n",
              "22   ROBOT PALETIZADOR KUKA             55       \n",
              "23   PRENSA                             55       \n",
              "24   PRECALENTADOR                      55       \n",
              "25   Llenado Y Embalado / Baby 1 - FLE  55       \n",
              "26   ESTERILIZADOR                      55       \n",
              "27   ENGOMADORA                         55       \n",
              "28   VAC TRAC PRECALENTADOR             63       \n",
              "29   VAC TRAC ENFRIADOR                 63       \n",
              "30   TRANSP SALIDA PRECALENTADOR        63       \n",
              "⋮    ⋮                                  ⋮        \n",
              "1947 CODIFICADOR DE CAJAS MARSH         13       \n",
              "1948 CERRADORA                          13       \n",
              "1949 BBA DE RECUPERO LLENADORA          13       \n",
              "1950 TRANSP SALIDA ENFRIADOR            13       \n",
              "1951 TRANSP ALIMENTADOR ENVASES VACIO   13       \n",
              "1952 TRANSP ALIMENT CAJAS PALETIZADO    13       \n",
              "1953 TABLERO AUTOMATISMO LLEN-CERRADORA 13       \n",
              "1954 TABLERO AUTOMATISMO ESTERILIZADOR  13       \n",
              "1955 PALETIZADOR WALLON                 13       \n",
              "1956 ESPIRAL INGRESO ETIQUETADORA       13       \n",
              "1957 ENGOMADORA                         13       \n",
              "1958 ENFRIADOR                          13       \n",
              "1959 ELEVADOR SALIDA PAL/DEPAL WALLON   13       \n",
              "1960 TRANSP RODILLO PALETAS             13       \n",
              "1961 TABLERO AUTOMATISMO EMBAL-ETIQ     13       \n",
              "1962 PRECALENTADOR                      13       \n",
              "1963 EMBALADORA                         13       \n",
              "1964 ELEVADOR SALIDA PRECALENTADOR      13       \n",
              "1965 CODIFICADOR DE ENVASE LLENO        13       \n",
              "1966 VAC TRAC PRECALENTADOR             13       \n",
              "1967 VAC TRAC ENFRIADOR                 13       \n",
              "1968 TRANSP SALIDA PRECALENTADOR        13       \n",
              "1969 TRANSP SALIDA EMBALADORA           13       \n",
              "1970 TRANSP SALIDA CERRADORA            13       \n",
              "1971 TRANSP MASS CONVEYOR               13       \n",
              "1972 ROBOT PALETIZADOR KUKA             13       \n",
              "1973 LLENADORA                          13       \n",
              "1974 Llenado Y Embalado / Baby 1 - FLE  13       \n",
              "1975 ESTERILIZADOR                      13       \n",
              "1976 ELEVADOR SALIDA CERRADORA          13       "
            ]
          },
          "metadata": {}
        }
      ]
    },
    {
      "cell_type": "code",
      "source": [
        "sqldf(\n",
        "  \"select distinct Linea from dataset\n",
        "    order by 1 \"\n",
        ")\n",
        "\n",
        "#ver todas las opciones que tengo en la columna  linea"
      ],
      "metadata": {
        "id": "ozyh7nCL_DOt",
        "colab": {
          "base_uri": "https://localhost:8080/",
          "height": 304
        },
        "outputId": "538a14d0-3ec1-4b2f-c905-7d776a885909"
      },
      "execution_count": 9,
      "outputs": [
        {
          "output_type": "display_data",
          "data": {
            "text/html": [
              "<table class=\"dataframe\">\n",
              "<caption>A data.frame: 6 × 1</caption>\n",
              "<thead>\n",
              "\t<tr><th scope=col>Linea</th></tr>\n",
              "\t<tr><th scope=col>&lt;chr&gt;</th></tr>\n",
              "</thead>\n",
              "<tbody>\n",
              "\t<tr><td>Linea Baby 1</td></tr>\n",
              "\t<tr><td>Linea Baby 2</td></tr>\n",
              "\t<tr><td>Linea Baby 3</td></tr>\n",
              "\t<tr><td>Linea Baby 4</td></tr>\n",
              "\t<tr><td>Linea Baby 6</td></tr>\n",
              "\t<tr><td>Linea Baby 7</td></tr>\n",
              "</tbody>\n",
              "</table>\n"
            ],
            "text/markdown": "\nA data.frame: 6 × 1\n\n| Linea &lt;chr&gt; |\n|---|\n| Linea Baby 1 |\n| Linea Baby 2 |\n| Linea Baby 3 |\n| Linea Baby 4 |\n| Linea Baby 6 |\n| Linea Baby 7 |\n\n",
            "text/latex": "A data.frame: 6 × 1\n\\begin{tabular}{l}\n Linea\\\\\n <chr>\\\\\n\\hline\n\t Linea Baby 1\\\\\n\t Linea Baby 2\\\\\n\t Linea Baby 3\\\\\n\t Linea Baby 4\\\\\n\t Linea Baby 6\\\\\n\t Linea Baby 7\\\\\n\\end{tabular}\n",
            "text/plain": [
              "  Linea       \n",
              "1 Linea Baby 1\n",
              "2 Linea Baby 2\n",
              "3 Linea Baby 3\n",
              "4 Linea Baby 4\n",
              "5 Linea Baby 6\n",
              "6 Linea Baby 7"
            ]
          },
          "metadata": {}
        }
      ]
    },
    {
      "cell_type": "code",
      "source": [
        "# conocer el tiempo de parada maximo y minimo por  linea\n",
        "\n",
        "sqldf(\n",
        "  \"select Linea, min(TiempoPNP) AS TNP_MIN,\n",
        "  max(TiempoPNP) AS TNP_MAX,\n",
        "  avg(TiempoPNP) AS promedio\n",
        "  from dataset\n",
        "  group by Linea\n",
        "  \"\n",
        ")\n"
      ],
      "metadata": {
        "id": "WAOHTTKiCNFU",
        "colab": {
          "base_uri": "https://localhost:8080/",
          "height": 286
        },
        "outputId": "49736970-0bb8-4c4d-c9a8-704aa24f81de"
      },
      "execution_count": 12,
      "outputs": [
        {
          "output_type": "display_data",
          "data": {
            "text/html": [
              "<table class=\"dataframe\">\n",
              "<caption>A data.frame: 6 × 4</caption>\n",
              "<thead>\n",
              "\t<tr><th scope=col>Linea</th><th scope=col>TNP_MIN</th><th scope=col>TNP_MAX</th><th scope=col>promedio</th></tr>\n",
              "\t<tr><th scope=col>&lt;chr&gt;</th><th scope=col>&lt;int&gt;</th><th scope=col>&lt;int&gt;</th><th scope=col>&lt;dbl&gt;</th></tr>\n",
              "</thead>\n",
              "<tbody>\n",
              "\t<tr><td>Linea Baby 1</td><td>10</td><td>351</td><td> 80.11538</td></tr>\n",
              "\t<tr><td>Linea Baby 2</td><td>14</td><td>154</td><td> 73.46667</td></tr>\n",
              "\t<tr><td>Linea Baby 3</td><td> 5</td><td>261</td><td> 62.53846</td></tr>\n",
              "\t<tr><td>Linea Baby 4</td><td>15</td><td>294</td><td> 84.08065</td></tr>\n",
              "\t<tr><td>Linea Baby 6</td><td>16</td><td>360</td><td>111.88889</td></tr>\n",
              "\t<tr><td>Linea Baby 7</td><td> 5</td><td>189</td><td> 86.42061</td></tr>\n",
              "</tbody>\n",
              "</table>\n"
            ],
            "text/markdown": "\nA data.frame: 6 × 4\n\n| Linea &lt;chr&gt; | TNP_MIN &lt;int&gt; | TNP_MAX &lt;int&gt; | promedio &lt;dbl&gt; |\n|---|---|---|---|\n| Linea Baby 1 | 10 | 351 |  80.11538 |\n| Linea Baby 2 | 14 | 154 |  73.46667 |\n| Linea Baby 3 |  5 | 261 |  62.53846 |\n| Linea Baby 4 | 15 | 294 |  84.08065 |\n| Linea Baby 6 | 16 | 360 | 111.88889 |\n| Linea Baby 7 |  5 | 189 |  86.42061 |\n\n",
            "text/latex": "A data.frame: 6 × 4\n\\begin{tabular}{llll}\n Linea & TNP\\_MIN & TNP\\_MAX & promedio\\\\\n <chr> & <int> & <int> & <dbl>\\\\\n\\hline\n\t Linea Baby 1 & 10 & 351 &  80.11538\\\\\n\t Linea Baby 2 & 14 & 154 &  73.46667\\\\\n\t Linea Baby 3 &  5 & 261 &  62.53846\\\\\n\t Linea Baby 4 & 15 & 294 &  84.08065\\\\\n\t Linea Baby 6 & 16 & 360 & 111.88889\\\\\n\t Linea Baby 7 &  5 & 189 &  86.42061\\\\\n\\end{tabular}\n",
            "text/plain": [
              "  Linea        TNP_MIN TNP_MAX promedio \n",
              "1 Linea Baby 1 10      351      80.11538\n",
              "2 Linea Baby 2 14      154      73.46667\n",
              "3 Linea Baby 3  5      261      62.53846\n",
              "4 Linea Baby 4 15      294      84.08065\n",
              "5 Linea Baby 6 16      360     111.88889\n",
              "6 Linea Baby 7  5      189      86.42061"
            ]
          },
          "metadata": {}
        }
      ]
    },
    {
      "cell_type": "code",
      "source": [
        "tiempo = dataset$TiempoPNP"
      ],
      "metadata": {
        "id": "KoSWTE7UCNB7"
      },
      "execution_count": 13,
      "outputs": []
    },
    {
      "cell_type": "code",
      "source": [
        "#histogramaq\n",
        "hist(tiempo, col=c ('green', 'blue','black'), main= 'Distribución del TiempoPnp de la Planta de Lacteos', breaks=10)"
      ],
      "metadata": {
        "id": "VvuIwqGACM-i",
        "colab": {
          "base_uri": "https://localhost:8080/",
          "height": 437
        },
        "outputId": "0e2bc822-4475-4b55-c84b-a04912a11aaa"
      },
      "execution_count": 23,
      "outputs": [
        {
          "output_type": "display_data",
          "data": {
            "text/plain": [
              "Plot with title “Distribución del TiempoPnp de la Planta de Lacteos”"
            ],
            "image/png": "[encoded data removed]"
          },
          "metadata": {
            "image/png": {
              "width": 420,
              "height": 420
            }
          }
        }
      ]
    },
    {
      "cell_type": "code",
      "source": [
        "#histogramaq\n",
        "\n",
        "# break= para tener la misma cantidad de intervalos ( se pone aleatorio)\n",
        "hist(tiempo, col=('green'), main= 'Distribución del TiempoPnp de la Planta de Lacteos', breaks=10)"
      ],
      "metadata": {
        "id": "gQgI6L0JCM6G",
        "colab": {
          "base_uri": "https://localhost:8080/",
          "height": 437
        },
        "outputId": "87d04512-6564-465a-f5e8-ec5107497f64"
      },
      "execution_count": 24,
      "outputs": [
        {
          "output_type": "display_data",
          "data": {
            "text/plain": [
              "Plot with title “Distribución del TiempoPnp de la Planta de Lacteos”"
            ],
            "image/png": "[encoded data removed]"
          },
          "metadata": {
            "image/png": {
              "width": 420,
              "height": 420
            }
          }
        }
      ]
    },
    {
      "cell_type": "code",
      "source": [
        "colnames(dataset)"
      ],
      "metadata": {
        "colab": {
          "base_uri": "https://localhost:8080/",
          "height": 34
        },
        "id": "VJShAL-7Mxjd",
        "outputId": "59a762c6-a929-4935-e206-c3034d3c1ee8"
      },
      "execution_count": 25,
      "outputs": [
        {
          "output_type": "display_data",
          "data": {
            "text/html": [
              "<style>\n",
              ".list-inline {list-style: none; margin:0; padding: 0}\n",
              ".list-inline>li {display: inline-block}\n",
              ".list-inline>li:not(:last-child)::after {content: \"\\00b7\"; padding: 0 .5ex}\n",
              "</style>\n",
              "<ol class=list-inline><li>'FechaProgramacion'</li><li>'Fabrica'</li><li>'Seccion'</li><li>'Linea'</li><li>'Equipo'</li><li>'TiempoPNP'</li></ol>\n"
            ],
            "text/markdown": "1. 'FechaProgramacion'\n2. 'Fabrica'\n3. 'Seccion'\n4. 'Linea'\n5. 'Equipo'\n6. 'TiempoPNP'\n\n\n",
            "text/latex": "\\begin{enumerate*}\n\\item 'FechaProgramacion'\n\\item 'Fabrica'\n\\item 'Seccion'\n\\item 'Linea'\n\\item 'Equipo'\n\\item 'TiempoPNP'\n\\end{enumerate*}\n",
            "text/plain": [
              "[1] \"FechaProgramacion\" \"Fabrica\"           \"Seccion\"          \n",
              "[4] \"Linea\"             \"Equipo\"            \"TiempoPNP\"        "
            ]
          },
          "metadata": {}
        }
      ]
    },
    {
      "cell_type": "code",
      "source": [
        "# Obtener el tiemp de parada NP total por un tipo de linea\n",
        "\n",
        "sqldf(\"\n",
        "select Linea, \n",
        "sum(TiempoPnP) as [TiempoTotal]\n",
        "from dataset\n",
        "group by Linea\n",
        "order by 2 desc\n",
        "\")"
      ],
      "metadata": {
        "colab": {
          "base_uri": "https://localhost:8080/",
          "height": 286
        },
        "id": "WEQXdlphNZ6X",
        "outputId": "5b9811f2-0124-4b4e-9e4c-67a1fb23d5fa"
      },
      "execution_count": 26,
      "outputs": [
        {
          "output_type": "display_data",
          "data": {
            "text/html": [
              "<table class=\"dataframe\">\n",
              "<caption>A data.frame: 6 × 2</caption>\n",
              "<thead>\n",
              "\t<tr><th scope=col>Linea</th><th scope=col>TiempoTotal</th></tr>\n",
              "\t<tr><th scope=col>&lt;chr&gt;</th><th scope=col>&lt;int&gt;</th></tr>\n",
              "</thead>\n",
              "<tbody>\n",
              "\t<tr><td>Linea Baby 6</td><td>260813</td></tr>\n",
              "\t<tr><td>Linea Baby 4</td><td>182455</td></tr>\n",
              "\t<tr><td>Linea Baby 1</td><td>158308</td></tr>\n",
              "\t<tr><td>Linea Baby 7</td><td> 93075</td></tr>\n",
              "\t<tr><td>Linea Baby 3</td><td> 85365</td></tr>\n",
              "\t<tr><td>Linea Baby 2</td><td> 79344</td></tr>\n",
              "</tbody>\n",
              "</table>\n"
            ],
            "text/markdown": "\nA data.frame: 6 × 2\n\n| Linea &lt;chr&gt; | TiempoTotal &lt;int&gt; |\n|---|---|\n| Linea Baby 6 | 260813 |\n| Linea Baby 4 | 182455 |\n| Linea Baby 1 | 158308 |\n| Linea Baby 7 |  93075 |\n| Linea Baby 3 |  85365 |\n| Linea Baby 2 |  79344 |\n\n",
            "text/latex": "A data.frame: 6 × 2\n\\begin{tabular}{ll}\n Linea & TiempoTotal\\\\\n <chr> & <int>\\\\\n\\hline\n\t Linea Baby 6 & 260813\\\\\n\t Linea Baby 4 & 182455\\\\\n\t Linea Baby 1 & 158308\\\\\n\t Linea Baby 7 &  93075\\\\\n\t Linea Baby 3 &  85365\\\\\n\t Linea Baby 2 &  79344\\\\\n\\end{tabular}\n",
            "text/plain": [
              "  Linea        TiempoTotal\n",
              "1 Linea Baby 6 260813     \n",
              "2 Linea Baby 4 182455     \n",
              "3 Linea Baby 1 158308     \n",
              "4 Linea Baby 7  93075     \n",
              "5 Linea Baby 3  85365     \n",
              "6 Linea Baby 2  79344     "
            ]
          },
          "metadata": {}
        }
      ]
    },
    {
      "cell_type": "code",
      "source": [
        "t6 = sqldf(\"\n",
        "select TiempoPNP\n",
        "from dataset\n",
        "where Linea='Linea Baby 6'\n",
        "\")"
      ],
      "metadata": {
        "id": "-f7BKrGLQG1i"
      },
      "execution_count": 37,
      "outputs": []
    },
    {
      "cell_type": "code",
      "source": [
        "hist(t6$TiempoPNP, main ='Linea Baby 6',  col=('green'), breaks=10)"
      ],
      "metadata": {
        "colab": {
          "base_uri": "https://localhost:8080/",
          "height": 437
        },
        "id": "LMNQNhNyQGyV",
        "outputId": "d016a57f-8f15-4eb0-f5d5-5018914b2184"
      },
      "execution_count": 40,
      "outputs": [
        {
          "output_type": "display_data",
          "data": {
            "text/plain": [
              "Plot with title “Linea Baby 6”"
            ],
            "image/png": "[encoded data removed]"
          },
          "metadata": {
            "image/png": {
              "width": 420,
              "height": 420
            }
          }
        }
      ]
    },
    {
      "cell_type": "code",
      "source": [
        ""
      ],
      "metadata": {
        "id": "W2l6acnvQGvE"
      },
      "execution_count": null,
      "outputs": []
    },
    {
      "cell_type": "code",
      "source": [
        ""
      ],
      "metadata": {
        "id": "EwcFidVCQGsH"
      },
      "execution_count": null,
      "outputs": []
    },
    {
      "cell_type": "code",
      "source": [
        ""
      ],
      "metadata": {
        "id": "CX_hiqb_QGpE"
      },
      "execution_count": null,
      "outputs": []
    },
    {
      "cell_type": "code",
      "source": [
        ""
      ],
      "metadata": {
        "id": "iPuFDKeAQGgF"
      },
      "execution_count": null,
      "outputs": []
    }
  ]
}