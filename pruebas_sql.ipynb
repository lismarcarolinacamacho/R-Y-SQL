{
  "nbformat": 4,
  "nbformat_minor": 0,
  "metadata": {
    "colab": {
      "name": "pruebas sql.ipynb",
      "provenance": [],
      "collapsed_sections": [],
      "authorship_tag": "ABX9TyOIedyu4qvB5iK/CKrWd3tg",
      "include_colab_link": true
    },
    "kernelspec": {
      "name": "python3",
      "display_name": "Python 3"
    },
    "language_info": {
      "name": "python"
    }
  },
  "cells": [
    {
      "cell_type": "markdown",
      "metadata": {
        "id": "view-in-github",
        "colab_type": "text"
      },
      "source": [
        "<a href=\"https://colab.research.google.com/github/lismarcarolinacamacho/R-Y-SQL/blob/main/pruebas_sql.ipynb\" target=\"_parent\"><img src=\"https://colab.research.google.com/assets/colab-badge.svg\" alt=\"Open In Colab\"/></a>"
      ]
    },
    {
      "cell_type": "code",
      "source": [
        "# CREATING THE TABLE\n",
        "import sqlite3\n",
        "\n",
        "\n",
        "conn = sqlite3.connect('test.db')\n",
        "\n",
        "conn.execute('''\n",
        "CREATE TABLE team_data(team text, \n",
        "                      country text, \n",
        "                      season integer, \n",
        "                      total_goals integer);''')\n",
        "conn.commit()\n",
        "\n",
        "conn.close()\n",
        "\n",
        "print(\"Opened database successfully\");\n",
        "print(\"Table created successfully\");"
      ],
      "metadata": {
        "colab": {
          "base_uri": "https://localhost:8080/"
        },
        "id": "-MkcOIA6lZan",
        "outputId": "b8b6c5ad-e2aa-4c05-c489-b7a0e28e9473"
      },
      "execution_count": null,
      "outputs": [
        {
          "output_type": "stream",
          "name": "stdout",
          "text": [
            "Opened database successfully\n",
            "Table created successfully\n"
          ]
        }
      ]
    },
    {
      "cell_type": "code",
      "source": [
        "# INSERTING VALUES\n",
        "conn = sqlite3.connect('test.db')\n",
        "\n",
        "conn.execute(\"INSERT INTO team_data VALUES('Barcelona', 'Spain', 2019, 47);\")\n",
        "conn.execute(\"INSERT INTO team_data VALUES('Arsenal', 'UK', 2019, 52);\")\n",
        "conn.execute(\"INSERT INTO team_data VALUES('Real Madrid', 'Spain', 2018, 49);\")\n",
        "conn.execute(\"INSERT INTO team_data VALUES('Barcelona', 'Spain', 2018, 45);\")\n",
        "conn.execute(\"INSERT INTO team_data VALUES('Arsenal', 'UK', 2018, 50 );\")\n",
        "\n",
        "conn.commit()"
      ],
      "metadata": {
        "id": "PJxR9hQolhN_"
      },
      "execution_count": null,
      "outputs": []
    },
    {
      "cell_type": "code",
      "source": [
        ""
      ],
      "metadata": {
        "id": "fHsAYenDxIEL"
      },
      "execution_count": null,
      "outputs": []
    },
    {
      "cell_type": "code",
      "source": [
        "# Average goal by team\n",
        "\n",
        "conn = sqlite3.connect('test.db')\n",
        "\n",
        "cursor = conn.execute(''' SELECT team,\n",
        "                            AVG(total_goals) AS avg_goals\n",
        "                          FROM team_data\n",
        "                          GROUP BY team;''')\n",
        "\n",
        "for row in cursor:\n",
        "  print(row)\n",
        "conn.close()"
      ],
      "metadata": {
        "colab": {
          "base_uri": "https://localhost:8080/"
        },
        "id": "_2I1cOENlhVC",
        "outputId": "eb2d6a41-28ef-4ac3-b461-50b5a7659967"
      },
      "execution_count": null,
      "outputs": [
        {
          "output_type": "stream",
          "name": "stdout",
          "text": [
            "('Arsenal', 51.0)\n",
            "('Barcelona', 46.0)\n",
            "('Real Madrid', 49.0)\n"
          ]
        }
      ]
    },
    {
      "cell_type": "code",
      "source": [
        "# Now, the correct query, using the appropriate sub-query\n",
        "\n",
        "conn = sqlite3.connect('test.db')\n",
        "\n",
        "cursor = conn.execute(''' SELECT team_name, avg_goals\n",
        "                          FROM (\n",
        "\n",
        "                          -- Here we make our sub-query:\n",
        "                            SELECT team AS team_name,\n",
        "                            AVG(total_goals) AS avg_goals\n",
        "                            FROM team_data\n",
        "                            GROUP BY team) tp\n",
        "                          -- End of the sub-query\n",
        "                          \n",
        "                          WHERE avg_goals > 50;''')\n",
        "\n",
        "for row in cursor:\n",
        "  print(row)\n",
        "conn.close()"
      ],
      "metadata": {
        "colab": {
          "base_uri": "https://localhost:8080/"
        },
        "id": "-fte_5oYlhYN",
        "outputId": "00d832d8-1302-4ffd-f42a-b1449f0395a1"
      },
      "execution_count": null,
      "outputs": [
        {
          "output_type": "stream",
          "name": "stdout",
          "text": [
            "('Arsenal', 51.0)\n"
          ]
        }
      ]
    },
    {
      "cell_type": "code",
      "source": [
        "import sqlite3\n",
        "conn = sqlite3.connect('employees.db')\n",
        "print(\"Opened database successfully\");\n",
        "\n",
        "conn.execute(\n",
        "\n",
        "'''\n",
        "DROP TABLE IF EXISTS departments'''\n",
        ")\n",
        "\n",
        "\n",
        "conn.commit()\n",
        "\n",
        "print(\"Table eliminated successfully\");\n",
        "\n",
        "conn.close()"
      ],
      "metadata": {
        "colab": {
          "base_uri": "https://localhost:8080/"
        },
        "id": "vXxUIjqUgWb2",
        "outputId": "55697fc3-9dab-482c-cbbf-010ac05268e0"
      },
      "execution_count": 1,
      "outputs": [
        {
          "output_type": "stream",
          "name": "stdout",
          "text": [
            "Opened database successfully\n",
            "Table eliminated successfully\n"
          ]
        }
      ]
    },
    {
      "cell_type": "code",
      "source": [
        "conn = sqlite3.connect('employees.db')\n",
        "print(\"Opened database successfully\");\n",
        "\n",
        "conn.execute(\n",
        "\n",
        "'''\n",
        "CREATE TABLE departments (\n",
        "  dept_no char(4) PRIMARY KEY NOT NULL,\n",
        "  dept_name varchar(40) NOT NULL)'''\n",
        ")\n",
        "\n",
        "\n",
        "conn.commit()\n",
        "\n",
        "print(\"Table created successfully\");\n",
        "\n",
        "conn.close()"
      ],
      "metadata": {
        "id": "gumMKYyT0mEM",
        "colab": {
          "base_uri": "https://localhost:8080/",
          "height": 321
        },
        "outputId": "8c8ca9d9-70c2-4914-f0a2-dd1797ba3d7c"
      },
      "execution_count": 3,
      "outputs": [
        {
          "output_type": "stream",
          "name": "stderr",
          "text": [
            "ERROR:root:An unexpected error occurred while tokenizing input\n",
            "The following traceback may be corrupted or invalid\n",
            "The error message is: ('EOF in multi-line string', (1, 33))\n",
            "\n"
          ]
        },
        {
          "output_type": "stream",
          "name": "stdout",
          "text": [
            "Opened database successfully\n"
          ]
        },
        {
          "output_type": "error",
          "ename": "OperationalError",
          "evalue": "ignored",
          "traceback": [
            "\u001b[0;31m---------------------------------------------------------------------------\u001b[0m",
            "\u001b[0;31mOperationalError\u001b[0m                          Traceback (most recent call last)",
            "\u001b[0;32m<ipython-input-3-65cbd7f4d1e1>\u001b[0m in \u001b[0;36m<module>\u001b[0;34m()\u001b[0m\n\u001b[1;32m      7\u001b[0m CREATE TABLE departments (\n\u001b[1;32m      8\u001b[0m   \u001b[0mdept_no\u001b[0m \u001b[0mchar\u001b[0m\u001b[0;34m(\u001b[0m\u001b[0;36m4\u001b[0m\u001b[0;34m)\u001b[0m \u001b[0mPRIMARY\u001b[0m \u001b[0mKEY\u001b[0m \u001b[0mNOT\u001b[0m \u001b[0mNULL\u001b[0m\u001b[0;34m,\u001b[0m\u001b[0;34m\u001b[0m\u001b[0;34m\u001b[0m\u001b[0m\n\u001b[0;32m----> 9\u001b[0;31m   dept_name varchar(40) NOT NULL)'''\n\u001b[0m\u001b[1;32m     10\u001b[0m )\n\u001b[1;32m     11\u001b[0m \u001b[0;34m\u001b[0m\u001b[0m\n",
            "\u001b[0;31mOperationalError\u001b[0m: table departments already exists"
          ]
        }
      ]
    },
    {
      "cell_type": "code",
      "source": [
        "\n",
        "\n",
        "\n",
        "conn = sqlite3.connect('employees.db')\n",
        "print(\"Opened database successfully\");\n",
        "\n",
        "conn.execute(\n",
        "\n",
        "'''\n",
        "INSERT INTO departments VALUES ('d009','Customer Service')\n",
        "'''\n",
        ")\n",
        "\n",
        "conn.execute(\"INSERT INTO departments VALUES('d005','Development');\")\n",
        "conn.execute(\"INSERT INTO departments VALUES('d002','Finance');\")\n",
        "conn.execute(\"INSERT INTO departments VALUES('d004','Production');\")\n",
        "conn.execute(\"INSERT INTO departments VALUES('d006','Quality Management');\")\n",
        "conn.execute(\"INSERT INTO departments VALUES('d008','Research');\")\n",
        "conn.execute(\"INSERT INTO departments VALUES('d007','Sales');\")\n",
        "conn.commit()\n",
        "print(\"Table created successfully\");\n",
        "\n",
        "conn.close()\n"
      ],
      "metadata": {
        "id": "dphz2l0m0mO9",
        "colab": {
          "base_uri": "https://localhost:8080/"
        },
        "outputId": "6d074ed3-0b84-4d67-b0d1-727b3123e812"
      },
      "execution_count": 4,
      "outputs": [
        {
          "output_type": "stream",
          "name": "stdout",
          "text": [
            "Opened database successfully\n",
            "Table created successfully\n"
          ]
        }
      ]
    },
    {
      "cell_type": "code",
      "source": [
        "conn = sqlite3.connect('employees.db')\n",
        "print(\"Opened database successfully\");\n",
        "\n",
        "conn.execute(\n",
        "\n",
        "'''\n",
        "DROP TABLE IF EXISTS dept_emp'''\n",
        ")\n",
        "\n",
        "\n",
        "conn.commit()\n",
        "\n",
        "print(\"Table eliminated successfully\");\n",
        "\n",
        "conn.close()"
      ],
      "metadata": {
        "colab": {
          "base_uri": "https://localhost:8080/"
        },
        "id": "n7UWVN5HvV0V",
        "outputId": "8c2c1d58-446b-43a8-bf21-a7e28716d88f"
      },
      "execution_count": 5,
      "outputs": [
        {
          "output_type": "stream",
          "name": "stdout",
          "text": [
            "Opened database successfully\n",
            "Table eliminated successfully\n"
          ]
        }
      ]
    },
    {
      "cell_type": "code",
      "source": [
        "conn = sqlite3.connect('employees.db')\n",
        "print(\"Opened database successfully\");\n",
        "conn.execute(\n",
        "''' DROP TABLE IF EXISTS employees''')\n",
        "\n",
        "conn.commit()\n",
        "\n",
        "print(\"Table eliminated successfully\");\n",
        "\n",
        "conn.close()\n"
      ],
      "metadata": {
        "colab": {
          "base_uri": "https://localhost:8080/"
        },
        "id": "ajHtpYcU3MEm",
        "outputId": "4a561674-f981-4b18-aed7-58e839c2e597"
      },
      "execution_count": 6,
      "outputs": [
        {
          "output_type": "stream",
          "name": "stdout",
          "text": [
            "Opened database successfully\n",
            "Table eliminated successfully\n"
          ]
        }
      ]
    },
    {
      "cell_type": "code",
      "source": [
        "conn = sqlite3.connect('employees.db')\n",
        "print(\"Opened database successfully\");\n",
        "conn.execute(\n",
        "''' DROP TABLE IF EXISTS Gender''')\n",
        "\n",
        "conn.commit()\n",
        "\n",
        "print(\"Table eliminated successfully\");\n",
        "\n",
        "conn.close()"
      ],
      "metadata": {
        "colab": {
          "base_uri": "https://localhost:8080/"
        },
        "id": "GHMsoRvfXo0O",
        "outputId": "c93af621-043e-40a6-e18c-8075dbf6f456"
      },
      "execution_count": 7,
      "outputs": [
        {
          "output_type": "stream",
          "name": "stdout",
          "text": [
            "Opened database successfully\n",
            "Table eliminated successfully\n"
          ]
        }
      ]
    },
    {
      "cell_type": "code",
      "source": [
        "conn = sqlite3.connect('employees.db')\n",
        "print(\"Opened database successfully\");\n",
        "\n",
        "conn.execute(\n",
        "\n",
        "'''CREATE TABLE Gender (\n",
        "\n",
        "  gendert CHAR(1) PRIMARY KEY NOT NULL,\n",
        "  Seq INTEGER\n",
        "  \n",
        "  )'''\n",
        "  \n",
        ")\n",
        "\n",
        "\n",
        "conn.commit()\n",
        "\n",
        "print(\"Table created successfully\");\n",
        "\n",
        "conn.close()\n",
        "  "
      ],
      "metadata": {
        "colab": {
          "base_uri": "https://localhost:8080/"
        },
        "id": "lRe_05ZFWNO4",
        "outputId": "fbe4b02d-803b-4851-d4c1-737f9c9c4e96"
      },
      "execution_count": 8,
      "outputs": [
        {
          "output_type": "stream",
          "name": "stdout",
          "text": [
            "Opened database successfully\n",
            "Table created successfully\n"
          ]
        }
      ]
    },
    {
      "cell_type": "code",
      "source": [
        "conn = sqlite3.connect('employees.db')\n",
        "print(\"Opened database successfully\");\n",
        "\n",
        "conn.execute(\"INSERT INTO Gender(gendert, Seq) VALUES ('M',1);\")\n",
        "\n",
        "conn.execute(\"INSERT INTO Gender(gendert, Seq) VALUES ('F',2);\")\n",
        "conn.commit()\n",
        "\n",
        "print(\"data inserted successfully\");\n",
        "\n",
        "conn.close()"
      ],
      "metadata": {
        "colab": {
          "base_uri": "https://localhost:8080/"
        },
        "id": "Qi8dEt7MXS0m",
        "outputId": "8c0d14e2-271c-4dae-f86c-9ad168a79391"
      },
      "execution_count": 9,
      "outputs": [
        {
          "output_type": "stream",
          "name": "stdout",
          "text": [
            "Opened database successfully\n",
            "data inserted successfully\n"
          ]
        }
      ]
    },
    {
      "cell_type": "code",
      "source": [
        "conn = sqlite3.connect('employees.db')\n",
        "print(\"Opened database successfully\");\n",
        "\n",
        "conn.execute(\n",
        "\n",
        "'''CREATE TABLE employees (\n",
        "  emp_no int(11) PRIMARY KEY NOT NULL,\n",
        "  birth_date date NOT NULL,\n",
        "  first_name varchar(14) NOT NULL,\n",
        "  last_name varchar(16) NOT NULL,\n",
        "  gendert CHAR(1) NOT NULL DEFAULT ('M') REFERENCES gender(gendert),\n",
        "  hire_date date NOT NULL)'''\n",
        ")\n",
        "\n",
        "\n",
        "conn.commit()\n",
        "\n",
        "print(\"Table created successfully\");\n",
        "\n",
        "conn.close()"
      ],
      "metadata": {
        "colab": {
          "base_uri": "https://localhost:8080/"
        },
        "id": "LEuf_lc12yMG",
        "outputId": "9ed4bd2e-44b8-4a0c-f038-83835e380d62"
      },
      "execution_count": 10,
      "outputs": [
        {
          "output_type": "stream",
          "name": "stdout",
          "text": [
            "Opened database successfully\n",
            "Table created successfully\n"
          ]
        }
      ]
    },
    {
      "cell_type": "code",
      "source": [
        "conn = sqlite3.connect('employees.db')\n",
        "print(\"Opened database successfully\");\n",
        "conn.execute(\n",
        "''' DROP TABLE IF EXISTS dept_emp''')\n",
        "\n",
        "conn.commit()\n",
        "\n",
        "print(\"Table eliminated successfully\");\n",
        "\n",
        "conn.close()"
      ],
      "metadata": {
        "colab": {
          "base_uri": "https://localhost:8080/"
        },
        "id": "wv5tPk08G_Pi",
        "outputId": "d093c925-b0e7-46a7-d2ee-c19d361b348b"
      },
      "execution_count": 11,
      "outputs": [
        {
          "output_type": "stream",
          "name": "stdout",
          "text": [
            "Opened database successfully\n",
            "Table eliminated successfully\n"
          ]
        }
      ]
    },
    {
      "cell_type": "code",
      "source": [
        "conn = sqlite3.connect('employees.db')\n",
        "print(\"Opened database successfully\");\n",
        "\n",
        "conn.execute(\n",
        "\n",
        "'''\n",
        "CREATE TABLE dept_emp (\n",
        "  emp_no int(11) NOT NULL,\n",
        "  dept_no char(4) NOT NULL,\n",
        "  from_date date NOT NULL,\n",
        "  to_date date NOT NULL,\n",
        "  PRIMARY KEY (emp_no,dept_no),\n",
        "  FOREIGN KEY (emp_no) REFERENCES employees (emp_no),\n",
        "  FOREIGN KEY (dept_no) REFERENCES departments (dept_no))'''\n",
        ")\n",
        "\n",
        "\n",
        "conn.commit()\n",
        "\n",
        "print(\"Table created successfully\");\n",
        "\n",
        "conn.close()"
      ],
      "metadata": {
        "id": "p_B8G_XZlhbF",
        "colab": {
          "base_uri": "https://localhost:8080/"
        },
        "outputId": "c9006fbe-f42d-417c-c595-fb15e0c16398"
      },
      "execution_count": 12,
      "outputs": [
        {
          "output_type": "stream",
          "name": "stdout",
          "text": [
            "Opened database successfully\n",
            "Table created successfully\n"
          ]
        }
      ]
    },
    {
      "cell_type": "code",
      "source": [
        "# REVISAR POR QUE NO ME DEJA CREAR CONSTRAINT \n",
        "\n",
        "#  CONSTRAINT `dept_emp_ibfk_1` FOREIGN KEY (`emp_no`) REFERENCES `employees` (`emp_no`) ON DELETE CASCADE,"
      ],
      "metadata": {
        "id": "435FnJbjGJAx"
      },
      "execution_count": 13,
      "outputs": []
    },
    {
      "cell_type": "code",
      "source": [
        "conn = sqlite3.connect('employees.db')\n",
        "print(\"Opened database successfully\");\n",
        "\n",
        "conn.execute(\"INSERT INTO employees VALUES (10001,'1953-09-02','Georgi','Facello','M','1986-06-26');\")\n",
        "\n",
        "conn.execute(\"INSERT INTO employees VALUES (10002,'1964-06-02','Bezalel','Simmel','F','1985-11-21');\")\n",
        "conn.execute(\"INSERT INTO employees VALUES (10004,'1954-05-01','Chirstian','Koblick','M','1986-12-01');\")\n",
        "conn.execute(\"INSERT INTO employees VALUES (10005,'1955-01-21','Kyoichi','Maliniak','M','1989-09-12');\")\n",
        "conn.execute(\"INSERT INTO employees VALUES (10006,'1953-04-20','Anneke','Preusig','F','1989-06-02');\")\n",
        "conn.execute(\"INSERT INTO employees VALUES (10007,'1957-05-23','Tzvetan','Zielinski','F','1989-02-10');\")\n",
        "conn.execute(\"INSERT INTO employees VALUES (10008,'1958-02-19','Saniya','Kalloufi','M','1994-09-15');\")\n",
        "\n",
        "conn.commit()\n",
        "\n",
        "print(\"Data Inserted successfully\");\n",
        "\n",
        "conn.close()"
      ],
      "metadata": {
        "colab": {
          "base_uri": "https://localhost:8080/"
        },
        "id": "rpLgOf390jnD",
        "outputId": "501cfee4-748e-4a16-b9ff-376025607496"
      },
      "execution_count": 14,
      "outputs": [
        {
          "output_type": "stream",
          "name": "stdout",
          "text": [
            "Opened database successfully\n",
            "Data Inserted successfully\n"
          ]
        }
      ]
    },
    {
      "cell_type": "code",
      "source": [
        "conn = sqlite3.connect('employees.db')\n",
        "print(\"Opened database successfully\");\n",
        "\n",
        "conn.execute(\"DROP TABLE IF EXISTS salaries\")\n",
        "\n",
        "conn.commit()\n",
        "\n",
        "print(\"Table eliminated successfully\");\n",
        "\n",
        "conn.close()"
      ],
      "metadata": {
        "colab": {
          "base_uri": "https://localhost:8080/"
        },
        "id": "A7XeRSob1weo",
        "outputId": "579e60f8-3784-42e7-a565-ff1fa1af3a0d"
      },
      "execution_count": 15,
      "outputs": [
        {
          "output_type": "stream",
          "name": "stdout",
          "text": [
            "Opened database successfully\n",
            "Table eliminated successfully\n"
          ]
        }
      ]
    },
    {
      "cell_type": "code",
      "source": [
        "conn = sqlite3.connect('employees.db')\n",
        "print(\"Opened database successfully\");\n",
        "\n",
        "conn.execute(\n",
        "''' CREATE TABLE salaries (\n",
        "  emp_no int(11) NOT NULL,\n",
        "  salary int(11) NOT NULL,\n",
        "  from_date date NOT NULL,\n",
        "  to_date date NOT NULL,\n",
        "  PRIMARY KEY (emp_no,from_date),\n",
        "  \n",
        " FOREIGN KEY (emp_no) REFERENCES employees (emp_no)\n",
        ");''')\n",
        "\n",
        "conn.commit()\n",
        "\n",
        "print(\"Table created successfully\");\n",
        "\n",
        "conn.close()"
      ],
      "metadata": {
        "colab": {
          "base_uri": "https://localhost:8080/"
        },
        "id": "3B44nNQE1wQJ",
        "outputId": "b0a75a8d-7799-420e-9260-1046abd965ba"
      },
      "execution_count": 16,
      "outputs": [
        {
          "output_type": "stream",
          "name": "stdout",
          "text": [
            "Opened database successfully\n",
            "Table created successfully\n"
          ]
        }
      ]
    },
    {
      "cell_type": "code",
      "source": [
        "conn = sqlite3.connect('employees.db')\n",
        "print(\"Opened database successfully\");\n",
        "\n",
        "conn.execute(\"INSERT INTO salaries VALUES (10001,60117,'1986-06-26','1987-06-26');\")\n",
        "conn.execute(\"INSERT INTO salaries VALUES (10001,62102,'1987-06-26','1988-06-25');\")\n",
        "conn.execute(\"INSERT INTO salaries VALUES (10001,66074,'1988-06-25','1989-06-25');\")\n",
        "conn.execute(\"INSERT INTO salaries VALUES (10001,66596,'1989-06-25','1990-06-25');\")\n",
        "conn.execute(\"INSERT INTO salaries VALUES (10001,66961,'1990-06-25','1991-06-25');\")\n",
        "conn.execute(\"INSERT INTO salaries VALUES (10001,71046,'1991-06-25','1992-06-24');\")\n",
        "conn.execute(\"INSERT INTO salaries VALUES (10001,74333,'1992-06-24','1993-06-24');\")\n",
        "conn.execute(\"INSERT INTO salaries VALUES (10001,75286,'1993-06-24','1994-06-24');\")\n",
        "conn.execute(\"INSERT INTO salaries VALUES (10001,75994,'1994-06-24','1995-06-24');\")\n",
        "conn.execute(\"INSERT INTO salaries VALUES (10001,76884,'1995-06-24','1996-06-23');\")\n",
        "conn.execute(\"INSERT INTO salaries VALUES (10001,80013,'1996-06-23','1997-06-23');\")\n",
        "conn.execute(\"INSERT INTO salaries VALUES (10001,81025,'1997-06-23','1998-06-23');\")\n",
        "conn.execute(\"INSERT INTO salaries VALUES (10001,81097,'1998-06-23','1999-06-23');\")\n",
        "conn.execute(\"INSERT INTO salaries VALUES (10001,84917,'1999-06-23','2000-06-22');\")\n",
        "conn.execute(\"INSERT INTO salaries VALUES (10001,85112,'2000-06-22','2001-06-22');\")\n",
        "conn.execute(\"INSERT INTO salaries VALUES (10001,85097,'2001-06-22','2002-06-22');\")\n",
        "conn.execute(\"INSERT INTO salaries VALUES (10001,88958,'2002-06-22','9999-01-01');\")\n",
        "conn.execute(\"INSERT INTO salaries VALUES (10002,65828,'1996-08-03','1997-08-03');\")\n",
        "conn.execute(\"INSERT INTO salaries VALUES (10002,65909,'1997-08-03','1998-08-03');\")\n",
        "conn.execute(\"INSERT INTO salaries VALUES (10002,67534,'1998-08-03','1999-08-03');\")\n",
        "\n",
        "conn.commit()\n",
        "\n",
        "print(\"Data inserted successfully\");\n",
        "\n",
        "conn.close()"
      ],
      "metadata": {
        "colab": {
          "base_uri": "https://localhost:8080/"
        },
        "id": "5p9Mf3Lt3ORh",
        "outputId": "62fd199c-e15d-4d9d-9fb5-b9f8e47594e0"
      },
      "execution_count": 17,
      "outputs": [
        {
          "output_type": "stream",
          "name": "stdout",
          "text": [
            "Opened database successfully\n",
            "Data inserted successfully\n"
          ]
        }
      ]
    },
    {
      "cell_type": "code",
      "source": [
        "conn = sqlite3.connect('employees.db')\n",
        "print(\"Opened database successfully\");\n",
        "\n",
        "conn.execute(\"DROP TABLE IF EXISTS titles;\")\n",
        "conn.commit()\n",
        "\n",
        "print(\"Table eliminated successfully\");\n",
        "\n",
        "conn.close()"
      ],
      "metadata": {
        "id": "uFKK_nDx5b-p",
        "colab": {
          "base_uri": "https://localhost:8080/"
        },
        "outputId": "f3395801-acc1-4af6-a85b-f33707bace0c"
      },
      "execution_count": 19,
      "outputs": [
        {
          "output_type": "stream",
          "name": "stdout",
          "text": [
            "Opened database successfully\n",
            "Table eliminated successfully\n"
          ]
        }
      ]
    },
    {
      "cell_type": "code",
      "source": [
        "conn = sqlite3.connect('employees.db')\n",
        "print(\"Opened database successfully\");\n",
        "\n",
        "conn.execute('''CREATE TABLE titles (\n",
        "  emp_no int(11) NOT NULL,\n",
        "  title varchar(50) NOT NULL,\n",
        "  from_date date NOT NULL,\n",
        "  to_date date DEFAULT NULL,\n",
        "  PRIMARY KEY (emp_no,title,from_date),\n",
        "  FOREIGN KEY (emp_no) REFERENCES employees (emp_no)\n",
        ")''')\n",
        "\n",
        "conn.commit()\n",
        "\n",
        "print(\"Table created successfully\");\n",
        "\n",
        "conn.close()"
      ],
      "metadata": {
        "colab": {
          "base_uri": "https://localhost:8080/"
        },
        "id": "1jRn0xA0EPC0",
        "outputId": "56243442-346e-4d14-d084-87b1ccb5f48d"
      },
      "execution_count": 20,
      "outputs": [
        {
          "output_type": "stream",
          "name": "stdout",
          "text": [
            "Opened database successfully\n",
            "Table created successfully\n"
          ]
        }
      ]
    },
    {
      "cell_type": "code",
      "source": [
        "conn = sqlite3.connect('employees.db')\n",
        "print(\"Opened database successfully\");\n",
        "\n",
        "conn.execute(\"INSERT INTO titles VALUES (10001,'Senior Engineer','1986-06-26','9999-01-01');\")\n",
        "conn.execute(\"INSERT INTO titles VALUES (10002,'Staff','1996-08-03','9999-01-01');\")\n",
        "conn.execute(\"INSERT INTO titles VALUES (10003,'Senior Engineer','1995-12-03','9999-01-01');\")\n",
        "\n",
        "conn.commit()\n",
        "\n",
        "print(\"Data inserted successfully\");\n",
        "\n",
        "conn.close()"
      ],
      "metadata": {
        "id": "nZKPQ1o9xecA",
        "colab": {
          "base_uri": "https://localhost:8080/"
        },
        "outputId": "98016a9e-9214-44ae-8019-c4c86b9b73b3"
      },
      "execution_count": 21,
      "outputs": [
        {
          "output_type": "stream",
          "name": "stdout",
          "text": [
            "Opened database successfully\n",
            "Data inserted successfully\n"
          ]
        }
      ]
    },
    {
      "cell_type": "code",
      "source": [
        ""
      ],
      "metadata": {
        "id": "4ohUmwAZxeX4"
      },
      "execution_count": null,
      "outputs": []
    },
    {
      "cell_type": "code",
      "source": [
        ""
      ],
      "metadata": {
        "id": "N7ZhAJAfxeU4"
      },
      "execution_count": null,
      "outputs": []
    },
    {
      "cell_type": "code",
      "source": [
        ""
      ],
      "metadata": {
        "id": "KFm9WxCixeRp"
      },
      "execution_count": null,
      "outputs": []
    },
    {
      "cell_type": "code",
      "source": [
        ""
      ],
      "metadata": {
        "id": "RUopPcAIxeOn"
      },
      "execution_count": null,
      "outputs": []
    },
    {
      "cell_type": "code",
      "source": [
        ""
      ],
      "metadata": {
        "id": "pbixDy71xeIR"
      },
      "execution_count": null,
      "outputs": []
    }
  ]
}